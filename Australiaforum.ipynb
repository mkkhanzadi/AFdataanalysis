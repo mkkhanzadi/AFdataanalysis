{
 "cells": [
  {
   "cell_type": "code",
   "execution_count": 177,
   "metadata": {},
   "outputs": [],
   "source": [
    "import requests\n",
    "import bs4\n",
    "from bs4 import BeautifulSoup as bs\n",
    "import urllib.request as ureq\n",
    "import csv\n",
    "import re"
   ]
  },
  {
   "cell_type": "code",
   "execution_count": 183,
   "metadata": {},
   "outputs": [
    {
     "name": "stdout",
     "output_type": "stream",
     "text": [
      "/\n",
      "/feedback/3229-forum-rules.html\n",
      "/About\n",
      "/Authors\n",
      "/register.php\n",
      "https://www.australiaforum.com/advertise.php\n",
      "https://www.australiaforum.com/register.php\n",
      "https://www.australiaforum.com/faq.php\n",
      "https://www.australiaforum.com/calendar.php\n",
      "https://www.australiaforum.com/search.php?do=getdaily\n",
      "https://www.australiaforum.com/register.php\n"
     ]
    }
   ],
   "source": [
    "Australiaforum_url = 'https://www.australiaforum.com/visas-immigration/'\n",
    "Ausforum = requests.get(Australiaforum_url)\n",
    "soup = bs(Ausforum.text, 'html.parser')\n",
    "#print(soup.prettify())\n",
    "#soup.find_all('a')\n",
    "#tabs = [link['href'] for link in soup.find_all('a', {'class':\"n_first_a\"})\n",
    "#print(tabs)\n",
    "#tab_titles = list(map(lambda h: h.text.strip(), tabs))\n",
    "#print(tab_titles)\n",
    "#for links in tabs:\n",
    "    #print links.get(\"href\")\n",
    "#THIS PRINTS ALL HREF LINKS\n",
    "#for link in soup.find_all('a'):\n",
    "    #print(link.get('href'))\n",
    "\n",
    "#THIS PRINTS THE TOP TABS WITH CLASS: N_FIRST_A:\n",
    "for link in soup.find_all(\"a\", \"n_first_a\", href=True):\n",
    "    print(link['href'])"
   ]
  },
  {
   "cell_type": "code",
   "execution_count": 202,
   "metadata": {},
   "outputs": [
    {
     "name": "stdout",
     "output_type": "stream",
     "text": [
      "https://www.australiaforum.com/visas-immigration/250194-permanent-partner-visas-801-100-eligibility-notification.html\n",
      "https://www.australiaforum.com/visas-immigration/252474-registered-migration-agents.html\n",
      "https://www.australiaforum.com/visas-immigration/288667-dual-citizen-travel.html\n",
      "https://www.australiaforum.com/visas-immigration/288673-sponsoring-my-brother-uk.html\n",
      "https://www.australiaforum.com/visas-immigration/262570-visa-processing-time.html\n",
      "https://www.australiaforum.com/visas-immigration/27105-pmv-309-timeline-washington-d-c.html\n",
      "https://www.australiaforum.com/visas-immigration/80194-partner-visa-309-100-timeline-india-australian-high-commission-new-delhi.html\n",
      "https://www.australiaforum.com/visas-immigration/288675-fingerprint-background-checks-usa.html\n",
      "https://www.australiaforum.com/visas-immigration/285821-pmv-300-2019-grants-philippines.html\n",
      "https://www.australiaforum.com/visas-immigration/195794-partner-visa-applications-pretoria-south-africa.html\n",
      "https://www.australiaforum.com/visas-immigration/280753-partner-visa-309-processing-time-beirut-office.html\n",
      "https://www.australiaforum.com/visas-immigration/288665-uploading-documents-309-100-a.html\n",
      "https://www.australiaforum.com/visas-immigration/16467-berlin-embassy-processing-time.html\n",
      "https://www.australiaforum.com/visas-immigration/288671-paying-duty-other-fees.html\n",
      "https://www.australiaforum.com/visas-immigration/288617-overseas-hospital-bill.html\n",
      "https://www.australiaforum.com/visas-immigration/288585-form-1023-necessary.html\n",
      "https://www.australiaforum.com/visas-immigration/186578-485-subsequent-entrant-processing-time.html\n",
      "https://www.australiaforum.com/visas-immigration/288669-waiting-decision.html\n",
      "https://www.australiaforum.com/visas-immigration/285659-bva-bvb-work-rights-reset.html\n",
      "https://www.australiaforum.com/visas-immigration/288663-how-soon-grant-820-after-got-contacted-co.html\n",
      "https://www.australiaforum.com/visas-immigration/288629-remaining-relative-visa.html\n",
      "https://www.australiaforum.com/visas-immigration/38930-820-temporary-onshore-waiting-room.html\n",
      "['Permanent partner visas 801/100 eligibility notification', 'Registered Migration Agents', 'Dual Citizen Travel', 'Sponsoring my Brother from the UK', 'Visa processing time', 'PMV and 309 Timeline for Washington, D.C.', 'Partner Visa (309/100) Timeline from India- Australian High Commission New Delhi', 'Fingerprint/Background checks USA', 'PMV 300 2019 Grants in the Philippines', 'Partner visa applications in  Pretoria... South Africa', 'Partner visa (309) processing time from Beirut office', 'Uploading of Documents 309/100', 'Berlin Embassy Processing Time', 'paying duty and other fees', 'Overseas hospital bill', 'Is form 1023 necessary for this?', '485 subsequent entrant processing time', 'Waiting for decision', 'BVA to BVB work rights reset?', 'how soon to grant 820 after got contacted by co ?', 'remaining relative visa', '820 Temporary Onshore - Waiting Room!']\n"
     ]
    }
   ],
   "source": [
    "#soup.find_all('a')\n",
    "#topics = soup.find_all('a', {'id':'thread_title_250194'})\n",
    "#print(topics)\n",
    "#all_topics = list(map(lambda a: a.text.strip(), topics))\n",
    "#print(all_topics)\n",
    "#titles = list(map(lambda h: h.text.strip(), topics))\n",
    "#print(titles)\n",
    "#print (soup.prettify())\n",
    "for link in soup.find_all(\"a\", {'id': (re.compile('thread_title_'))}):\n",
    "    print(link['href'])\n",
    "    \n",
    "titles = soup.find_all(\"a\", {'id': (re.compile('thread_title_'))})\n",
    "#print(titles)\n",
    "topics = list(map(lambda h: h.text.strip(), titles))\n",
    "print(topics)"
   ]
  },
  {
   "cell_type": "code",
   "execution_count": 204,
   "metadata": {},
   "outputs": [
    {
     "name": "stdout",
     "output_type": "stream",
     "text": [
      "https://www.australiaforum.com/visas-immigration/index2.html\n",
      "https://www.australiaforum.com/visas-immigration/index3.html\n",
      "https://www.australiaforum.com/visas-immigration/index4.html\n",
      "https://www.australiaforum.com/visas-immigration/index5.html\n",
      "https://www.australiaforum.com/visas-immigration/index6.html\n",
      "https://www.australiaforum.com/visas-immigration/index7.html\n",
      "https://www.australiaforum.com/visas-immigration/index8.html\n",
      "https://www.australiaforum.com/visas-immigration/index9.html\n",
      "https://www.australiaforum.com/visas-immigration/index10.html\n",
      "https://www.australiaforum.com/visas-immigration/index11.html\n",
      "https://www.australiaforum.com/visas-immigration/index51.html\n",
      "https://www.australiaforum.com/visas-immigration/index101.html\n",
      "https://www.australiaforum.com/visas-immigration/index501.html\n",
      "https://www.australiaforum.com/visas-immigration/index1001.html\n",
      "https://www.australiaforum.com/visas-immigration/index2.html\n",
      "https://www.australiaforum.com/visas-immigration/index1858.html\n",
      "https://www.australiaforum.com/visas-immigration/index2.html\n",
      "https://www.australiaforum.com/visas-immigration/index3.html\n",
      "https://www.australiaforum.com/visas-immigration/index4.html\n",
      "https://www.australiaforum.com/visas-immigration/index5.html\n",
      "https://www.australiaforum.com/visas-immigration/index6.html\n",
      "https://www.australiaforum.com/visas-immigration/index7.html\n",
      "https://www.australiaforum.com/visas-immigration/index8.html\n",
      "https://www.australiaforum.com/visas-immigration/index9.html\n",
      "https://www.australiaforum.com/visas-immigration/index10.html\n",
      "https://www.australiaforum.com/visas-immigration/index11.html\n",
      "https://www.australiaforum.com/visas-immigration/index51.html\n",
      "https://www.australiaforum.com/visas-immigration/index101.html\n",
      "https://www.australiaforum.com/visas-immigration/index501.html\n",
      "https://www.australiaforum.com/visas-immigration/index1001.html\n",
      "https://www.australiaforum.com/visas-immigration/index2.html\n",
      "https://www.australiaforum.com/visas-immigration/index1858.html\n"
     ]
    }
   ],
   "source": [
    "for link in soup.find_all(\"a\", \"smallfont\", href=True):\n",
    "    print(link['href'])"
   ]
  },
  {
   "cell_type": "code",
   "execution_count": null,
   "metadata": {},
   "outputs": [],
   "source": []
  }
 ],
 "metadata": {
  "kernelspec": {
   "display_name": "Python 3",
   "language": "python",
   "name": "python3"
  },
  "language_info": {
   "codemirror_mode": {
    "name": "ipython",
    "version": 3
   },
   "file_extension": ".py",
   "mimetype": "text/x-python",
   "name": "python",
   "nbconvert_exporter": "python",
   "pygments_lexer": "ipython3",
   "version": "3.6.8"
  }
 },
 "nbformat": 4,
 "nbformat_minor": 2
}
