{
 "cells": [
  {
   "cell_type": "code",
   "execution_count": 177,
   "metadata": {},
   "outputs": [],
   "source": [
NEW CLEAN CODE
import requests
import bs4
from bs4 import BeautifulSoup as bs
import urllib.request as ureq
import csv
import re

Australiaforum_url = 'https://www.australiaforum.com/visas-immigration/'
Ausforum = requests.get(Australiaforum_url)
#print(Ausforum)
soup = bs(Ausforum.text, 'html.parser')
    
titles = []

for link in soup.find_all("a", {'id': (re.compile('thread_title_'))}):
    href = link.get('href')
    titles.append(href)              
#print(titles[0:])

#This code pulls out data from a single link at a time
murl = requests.get(titles[7])
msoup = bs(murl.text, 'html.parser')
#print(msoup)
messages = msoup.find_all('div', {'id': (re.compile('post_message_'))})
#print(messages)
content = list(map(lambda h: h.text.strip(), messages))
print (content)

#TESTING WOTH JUST ONE URL TO SEE IF THE TAGS AND REGEX WORKS
#url = 'https://www.australiaforum.com/visas-immigration/231066-461-visa-timeline-any-updates-2017-a.html'

#testforum = requests.get(url)
#testsoup = bs(testforum.text, 'html.parser')
#messages = testsoup.find_all('div', {'id': (re.compile('post_message'))})
#print(messages)
#content = list(map(lambda h: h.text.strip(), messages))
#print(content)
