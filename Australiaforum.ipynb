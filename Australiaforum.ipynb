{
 "cells": [
  {
   "cell_type": "code",
   "execution_count": 82,
   "metadata": {},
   "outputs": [],
   "source": [
    "import requests\n",
    "import bs4\n",
    "from bs4 import BeautifulSoup as bs\n",
    "import urllib.request as ureq\n",
    "import csv\n",
    "import re"
   ]
  },
  {
   "cell_type": "code",
   "execution_count": 45,
   "metadata": {},
   "outputs": [
    {
     "name": "stdout",
     "output_type": "stream",
     "text": [
      "<Response [200]>\n"
     ]
    }
   ],
   "source": [
    "Australiaforum_url = 'https://www.australiaforum.com/visas-immigration/'\n",
    "Ausforum = requests.get(Australiaforum_url)\n",
    "#print(Ausforum)\n",
    "soup = bs(Ausforum.text, 'html.parser')\n",
    "#print(soup.prettify())\n",
    "#soup.find_all('a')\n",
    "#tabs = [link['href'] for link in soup.find_all('a', {'class':\"n_first_a\"})\n",
    "#print(tabs)\n",
    "#tab_titles = list(map(lambda h: h.text.strip(), tabs))\n",
    "#print(tab_titles)\n",
    "#for links in tabs:\n",
    "    #print links.get(\"href\")\n",
    "#THIS PRINTS ALL HREF LINKS\n",
    "#for link in soup.find_all('a'):\n",
    "    #print(link.get('href'))\n",
    "\n",
    "#THIS PRINTS THE TOP TABS WITH CLASS: N_FIRST_A:\n",
    "#for link in soup.find_all(\"a\", \"n_first_a\", href=True):\n",
    " #   print(link['href'])\n",
    "    \n"
   ]
  },
  {
   "cell_type": "code",
   "execution_count": 89,
   "metadata": {},
   "outputs": [
    {
     "name": "stdout",
     "output_type": "stream",
     "text": [
      "[\"Hi,\\n\\r\\nSo a bit of a background. I'm currently awaiting a decision for a 461 Temporary NZ Family Visa with my partner. Originally I came to Australia on a WHV and within that year we applied for the 461 visa. I was granted a BVA with the same work limitations as my WHV which is the 8547 limitation of 6 months per employer. When my WHV expired I went on my BVA which resets my working rights. I'm currently working at company doing marketing work which took me many months and interviews to land and it's the first full-time position I was able to get since coming here back in September of 2017..so its been a long and difficult journey. \\n\\r\\nIt's coming towards the end of my work duration and I know I can apply for a change of status with the form 1005 to have that limitations possibly removed. However, my partner and I are currently planning a trip overseas, so I applied for a BVB and was granted one. Well recently I also filed the 1005 and they called me stating that if they were to file this, it'll override my BVB. It will also have the same 8547 restriction on it. So I told them to hold off.\\n\\r\\nSo my question is, does the BVB have its own 6 months limitation separate from the BVA? Meaning I can work an additional 6 months starting when the BVB was granted? \\n\\r\\nOr if after I finish my trip and reapply for the 1005 and they grant me another BVA with the same restriction to override my BVB, will I then be able to work for another 6 months as it would be a new BVA visa?\\n\\r\\nMy 461 application is about 14 months old now, I think another 6 months will possibly get it approved and let me stay at my current position.\\n\\r\\nThanks,\\n\\r\\nLuckyAU7\", \"Hi @LuckyAU7, \\n\\r\\nJust wondering if you could give a quick update on what happened?\\n\\r\\nI'm in a similar situation, so very interested to hear back from you!\\n\\r\\nGood luck with your application, \\n\\r\\nBest regards, \\r\\nT\", 'Quote:\\n\\n\\n\\n\\r\\n\\t\\t\\t\\t\\tOriginally Posted by tomar1\\n\\n\\nHi @LuckyAU7, \\n\\r\\nJust wondering if you could give a quick update on what happened?\\n\\r\\nI\\'m in a similar situation, so very interested to hear back from you!\\n\\r\\nGood luck with your application, \\n\\r\\nBest regards, \\r\\nT\\n\\n\\n\\nHey @tomar1, \\n\\r\\nEvery visa has it\\'s own work rights. As stated, when you go from a WHV to a BVA, your 6 months are reset. So apparently it\\'s the same when you go from BVA to BVB as the BVB is your new visa and when employers check your VEVO it\\'ll show your new visa.\\n\\nhttps://immi.homeaffairs.gov.au/visa...ork-limitation\\n\\r\\nWhich is stated here:\\r\\n\"The condition resets and the 6 months begins again if:\\n\\r\\na second Working Holiday Maker visa is granted or\\r\\na bridging visa comes into effect\"\\n\\r\\nEssentially, you can apply for a BVB and go on a short vacation and come back and your work rights will be reset from the day your BVB is granted. This was confirmed by the immigration lawyers at a recruitment agency and by the lawyers at the company I worked at. I also called the immigration office and they also confirmed it, however they weren\\'t aware this could be done and had to refer back to that link above. \\n\\r\\nSo for $150, you can reset your work rights, however I recommend your company\\'s lawyers confirm this on their end. It\\'s not 100% certainty here. \\n\\r\\nThis worked for me and I was able to extend my work rights for 4 more months before I applied using the 1005 form, which removes the work limitations completely. I recommend trying your luck with this as its much more long term than trying to extend every 6 months if you can prove financial hardship.\\n\\r\\nHope this helps.', 'Quote:\\n\\n\\n\\n\\r\\n\\t\\t\\t\\t\\tOriginally Posted by LuckyAU7\\n\\n\\nHey @tomar1, \\n\\r\\nEvery visa has it\\'s own work rights. As stated, when you go from a WHV to a BVA, your 6 months are reset. So apparently it\\'s the same when you go from BVA to BVB as the BVB is your new visa and when employers check your VEVO it\\'ll show your new visa.\\n\\nhttps://immi.homeaffairs.gov.au/visa...ork-limitation\\n\\r\\nWhich is stated here:\\r\\n\"The condition resets and the 6 months begins again if:\\n\\r\\na second Working Holiday Maker visa is granted or\\r\\na bridging visa comes into effect\"\\n\\r\\nEssentially, you can apply for a BVB and go on a short vacation and come back and your work rights will be reset from the day your BVB is granted. This was confirmed by the immigration lawyers at a recruitment agency and by the lawyers at the company I worked at. I also called the immigration office and they also confirmed it, however they weren\\'t aware this could be done and had to refer back to that link above. \\n\\r\\nSo for $150, you can reset your work rights, however I recommend your company\\'s lawyers confirm this on their end. It\\'s not 100% certainty here. \\n\\r\\nThis worked for me and I was able to extend my work rights for 4 more months before I applied using the 1005 form, which removes the work limitations completely. I recommend trying your luck with this as its much more long term than trying to extend every 6 months if you can prove financial hardship.\\n\\r\\nHope this helps.\\n\\n\\n\\nA friend of mine told me their agent said this was accurate but I have since contacted a few migration agents and they have told me this is not true.\\n\\r\\nHave you had any official confirmation or did you do it yourself recently? I have 6 weeks left at this role and dont want to leave. I have prepared files for form 1005 but need a back-up.\\n\\r\\nAre you sure work rights reset for BVB? Does BVB replace BVA or does it run alongside?\\n\\r\\nI wonder if many agents aren\\'t aware of this hence them saying no.', \"Quote:\\n\\n\\n\\n\\r\\n\\t\\t\\t\\t\\tOriginally Posted by jimboallen95\\n\\n\\nA friend of mine told me their agent said this was accurate but I have since contacted a few migration agents and they have told me this is not true.\\n\\r\\nHave you had any official confirmation or did you do it yourself recently? I have 6 weeks left at this role and dont want to leave. I have prepared files for form 1005 but need a back-up.\\n\\r\\nAre you sure work rights reset for BVB? Does BVB replace BVA or does it run alongside?\\n\\r\\nI wonder if many agents aren't aware of this hence them saying no.\\n\\n\\n\\nThe BVB replaces the BVA in my understanding. Like I mentioned, I called the Department of Home Affairs at 131 881 and they confirmed this however they weren't sure and had to bring in a supervisor. They ended up referring to that link.\\n\\r\\nThis wasn't good enough for my employers as it wasn't in writing, so they had their own lawyers check and told me it was all good. This worked and I stayed with my company beyond 6 months.\\n\\r\\nLike you said, I don't think many people know about this. It's almost like a loophole. You can call immigration and see if you can get a confirmation email to show your employer or have your employer's agent run a check.\\n\\r\\nI didn't want to keep playing this game of extending and loopholes so I applied for the 1005 and was granted a BVA with no work restrictions. I applied once before back in January and was rejected so it's worth trying again if you fail. \\n\\r\\nGood Luck!\", \"Quote:\\n\\n\\n\\n\\r\\n\\t\\t\\t\\t\\tOriginally Posted by LuckyAU7\\n\\n\\nThe BVB replaces the BVA in my understanding. Like I mentioned, I called the Department of Home Affairs at 131 881 and they confirmed this however they weren't sure and had to bring in a supervisor. They ended up referring to that link.\\n\\r\\nThis wasn't good enough for my employers as it wasn't in writing, so they had their own lawyers check and told me it was all good. This worked and I stayed with my company beyond 6 months.\\n\\r\\nLike you said, I don't think many people know about this. It's almost like a loophole. You can call immigration and see if you can get a confirmation email to show your employer or have your employer's agent run a check.\\n\\r\\nI didn't want to keep playing this game of extending and loopholes so I applied for the 1005 and was granted a BVA with no work restrictions. I applied once before back in January and was rejected so it's worth trying again if you fail. \\n\\r\\nGood Luck!\\n\\n\\n\\nThanks, I will give them a call and maybe try and get something in writing.\\n\\r\\nJust out of interest, what did you submit in order to get the 6 month restriction removed recently? As generally its financial hardship which isn't easy to show as we can work, just not consistently. Would be a huge help\", \"Quote:\\n\\n\\n\\n\\r\\n\\t\\t\\t\\t\\tOriginally Posted by jimboallen95\\n\\n\\n\\nQuote:\\n\\n\\n\\n\\r\\n\\t\\t\\t\\t\\tOriginally Posted by LuckyAU7\\n\\n\\nThe BVB replaces the BVA in my understanding. Like I mentioned, I called the Department of Home Affairs at 131 881 and they confirmed this however they weren't sure and had to bring in a supervisor. They ended up referring to that link.\\n\\nThis wasn't good enough for my employers as it wasn't in writing, so they had their own lawyers check and told me it was all good. This worked and I stayed with my company beyond 6 months.\\n\\nLike you said, I don't think many people know about this. It's almost like a loophole. You can call immigration and see if you can get a confirmation email to show your employer or have your employer's agent run a check.\\n\\nI didn't want to keep playing this game of extending and loopholes so I applied for the 1005 and was granted a BVA with no work restrictions. I applied once before back in January and was rejected so it's worth trying again if you fail. \\n\\nGood Luck!\\n\\n\\n\\nThanks, I will give them a call and maybe try and get something in writing.\\n\\nJust out of interest, what did you submit in order to get the 6 month restriction removed recently? As generally its financial hardship which isn't easy to show as we can work, just not consistently. Would be a huge help\\n\\n\\n\\nYou can call immigration and speak to 5 different people and get 12 different answers.\", \"Quote:\\n\\n\\n\\n\\r\\n\\t\\t\\t\\t\\tOriginally Posted by jimboallen95\\n\\n\\nThanks, I will give them a call and maybe try and get something in writing.\\n\\nJust out of interest, what did you submit in order to get the 6 month restriction removed recently? As generally its financial hardship which isn't easy to show as we can work, just not consistently. Would be a huge help\\n\\n\\n\\nI applied under the conditions of financial hardship and stress. We had a decent size savings that would lasted us quite awhile even if I lost my job. Our weekly income was greater than our weekly expenses so it was difficult proving hardship. This is also how you can spin it around and make it work for you. \\n\\nI stated that I've been waiting for this visa for almost 2 years and the wait time is ever increasing and the stress of finding new work every 6 months is taxing. Not only that but full-time positions are hard to come by for my role as it takes months to get acquainted. For me and my partner to maintain our current way of life, I needed to keep my job. Otherwise we risk eating through our savings and cause unnecessary stress. Our savings is meant for us to put a down payment on a home together and it'll set us back. If my next position is less than full-time then our weekly expenses would be higher than our income. I also included everything: pending student loans, bank statements, savings, bills, groceries, furnishing cost, Myki, car rentals.. etc.\\n\\nGot approved within a week with no questions asked. Just gotta make a good enough case. Didn't include a letter of support from my employer even though I had one. Didn't want them to think it was about wanting to keep a job but rather about needing to work long term. Though I have read that people have seen success with a letter.\", 'Quote:\\n\\n\\n\\n\\r\\n\\t\\t\\t\\t\\tOriginally Posted by LuckyAU7\\n\\n\\nI applied under the conditions of financial hardship and stress. We had a decent size savings that would lasted us quite awhile even if I lost my job. Our weekly income was greater than our weekly expenses so it was difficult proving hardship. This is also how you can spin it around and make it work for you. \\n\\r\\nI stated that I\\'ve been waiting for this visa for almost 2 years and the wait time is ever increasing and the stress of finding new work every 6 months is taxing. Not only that but full-time positions are hard to come by for my role as it takes months to get acquainted. For me and my partner to maintain our current way of life, I needed to keep my job. Otherwise we risk eating through our savings and cause unnecessary stress. Our savings is meant for us to put a down payment on a home together and it\\'ll set us back. If my next position is less than full-time then our weekly expenses would be higher than our income. I also included everything: pending student loans, bank statements, savings, bills, groceries, furnishing cost, Myki, car rentals.. etc.\\n\\r\\nGot approved within a week with no questions asked. Just gotta make a good enough case. Didn\\'t include a letter of support from my employer even though I had one. Didn\\'t want them to think it was about wanting to keep a job but rather about needing to work long term. Though I have read that people have seen success with a letter.\\n\\n\\n\\nGreat, appreciate it. So for Q19 \"Are you seeking permission to work on the basis of financial hardship?\" you ticked yes and detailed income etc. \\n\\r\\nI guess the savings\\' thing worries me because we had planned trips to UK/NZ for family along with some travels ourselves next year so I do have savings but they aren\\'t really to be used to survive unemployment. (I have about $7000 saved personally).\\n\\r\\nSorry one more question, for evidence did you get anything certified or did you just print out bank statements/myki transactions on paper and send?', 'Quote:\\n\\n\\n\\n\\r\\n\\t\\t\\t\\t\\tOriginally Posted by jimboallen95\\n\\n\\nGreat, appreciate it. So for Q19 \"Are you seeking permission to work on the basis of financial hardship?\" you ticked yes and detailed income etc. \\n\\r\\nI guess the savings\\' thing worries me because we had planned trips to UK/NZ for family along with some travels ourselves next year so I do have savings but they aren\\'t really to be used to survive unemployment. (I have about $7000 saved personally).\\n\\r\\nSorry one more question, for evidence did you get anything certified or did you just print out bank statements/myki transactions on paper and send?\\n\\n\\n\\nYes that\\'s correct. Ticked financial hardship and explained that I will be in financial hardship in the future because of the limitations. I had much more saved than you do as well but also had student loans. Just gotta make a good case for yourself. You\\'re not in financial hardship now, but you will be if you don\\'t keep your current job.\\n\\r\\nJust print and send with no certification but if it makes you feel better why not get it certified.']\n"
     ]
    }
   ],
   "source": [
    "#soup.find_all('a')\n",
    "#topics = soup.find_all('a', {'id':'thread_title_250194'})\n",
    "#print(topics)\n",
    "#all_topics = list(map(lambda a: a.text.strip(), topics))\n",
    "#print(all_topics)\n",
    "#titles = list(map(lambda h: h.text.strip(), topics))\n",
    "#print(titles)\n",
    "#print (soup.prettify())\n",
    "\n",
    "titles = []\n",
    "\n",
    "for link in soup.find_all(\"a\", {'id': (re.compile('thread_title_'))}):\n",
    "    href = link.get('href')\n",
    "    titles.append(href)              \n",
    "#print(titles[0:])\n",
    "\n",
    "#links = titles.find_all(\"href\")\n",
    "#print(links)\n",
    "#Ausforum = requests.get(Australiaforum_url)\n",
    "#soup2 = bs(title_url.text, 'html.parser')\n",
    "#print(soup2)\n",
    "\n",
    "#titles = soup.find_all(\"a\", {'id': (re.compile('thread_title_'))})\n",
    "#print(titles)\n",
    "#topics = list(map(lambda h: h.text.strip(), titles))\n",
    "#print(topics)\n",
    "#url = requests.get(title_links[\"href\"])\n",
    "#print(url)\n",
    "\n",
    "#This code pulls out data from a single link at a time\n",
    "murl = requests.get(titles[7])\n",
    "msoup = bs(murl.text, 'html.parser')\n",
    "#print(msoup)\n",
    "messages = msoup.find_all('div', {'id': (re.compile('post_message_'))})\n",
    "#print(messages)\n",
    "content = list(map(lambda h: h.text.strip(), messages))\n",
    "print (content)"
   ]
  },
  {
   "cell_type": "code",
   "execution_count": 4,
   "metadata": {},
   "outputs": [
    {
     "name": "stdout",
     "output_type": "stream",
     "text": [
      "https://www.australiaforum.com/visas-immigration/index2.html\n",
      "https://www.australiaforum.com/visas-immigration/index3.html\n",
      "https://www.australiaforum.com/visas-immigration/index4.html\n",
      "https://www.australiaforum.com/visas-immigration/index5.html\n",
      "https://www.australiaforum.com/visas-immigration/index6.html\n",
      "https://www.australiaforum.com/visas-immigration/index7.html\n",
      "https://www.australiaforum.com/visas-immigration/index8.html\n",
      "https://www.australiaforum.com/visas-immigration/index9.html\n",
      "https://www.australiaforum.com/visas-immigration/index10.html\n",
      "https://www.australiaforum.com/visas-immigration/index11.html\n",
      "https://www.australiaforum.com/visas-immigration/index51.html\n",
      "https://www.australiaforum.com/visas-immigration/index101.html\n",
      "https://www.australiaforum.com/visas-immigration/index501.html\n",
      "https://www.australiaforum.com/visas-immigration/index1001.html\n",
      "https://www.australiaforum.com/visas-immigration/index2.html\n",
      "https://www.australiaforum.com/visas-immigration/index1859.html\n",
      "https://www.australiaforum.com/visas-immigration/index2.html\n",
      "https://www.australiaforum.com/visas-immigration/index3.html\n",
      "https://www.australiaforum.com/visas-immigration/index4.html\n",
      "https://www.australiaforum.com/visas-immigration/index5.html\n",
      "https://www.australiaforum.com/visas-immigration/index6.html\n",
      "https://www.australiaforum.com/visas-immigration/index7.html\n",
      "https://www.australiaforum.com/visas-immigration/index8.html\n",
      "https://www.australiaforum.com/visas-immigration/index9.html\n",
      "https://www.australiaforum.com/visas-immigration/index10.html\n",
      "https://www.australiaforum.com/visas-immigration/index11.html\n",
      "https://www.australiaforum.com/visas-immigration/index51.html\n",
      "https://www.australiaforum.com/visas-immigration/index101.html\n",
      "https://www.australiaforum.com/visas-immigration/index501.html\n",
      "https://www.australiaforum.com/visas-immigration/index1001.html\n",
      "https://www.australiaforum.com/visas-immigration/index2.html\n",
      "https://www.australiaforum.com/visas-immigration/index1859.html\n"
     ]
    }
   ],
   "source": [
    "for link in soup.find_all(\"a\", \"smallfont\", href=True):\n",
    "    print(link['href'])"
   ]
  },
  {
   "cell_type": "code",
   "execution_count": 5,
   "metadata": {},
   "outputs": [
    {
     "name": "stdout",
     "output_type": "stream",
     "text": [
      "['Hi all,\\n\\r\\nKeen to hear anybodies recent stories and processing times for their 461 NZ Family Relationship visa?\\n\\r\\nMy application was lodged on 27/03/2017.\\n\\r\\nRegards.\\r\\nAsh', 'Mine was lodged on 22nd March no updates yet', 'Hi, I just got my visa grant yesterday with my kids. Lodged my application Feb13, 2017.', 'hi AngelPinay 21, what a good news, congratulations. i begin to search this sc and try to figure out how to do. in my understanding, 2 forms 147 and 80 are required and stuffs from check list? are there anything i need to put in? i am a newbie and have no idea how to do it properly. did you document by yourself or thru agent? . i am from Vietnam, my daughter is a NZ citizen at birth (2002) and she returned VN when she was 1 month old and live with us since. highly appreciate for your shares.Tks .', \"Hello Kytran_8, \\n\\nYour grant should come soon. You should double check your countries check list and follow the requirements indicated. In the Philippines checklist, there is no form 80, I did not include that form I just don't know if it is included in your country's checklist. I did not use an agent as it is expensive. My situation is very complicated as my kids are not my partners. I just followed the checklist and provided as much proof that we are in a continuous relationship. I am still legally married in the Philippines, but i was abandoned separated for 10 years. Regardless the visa is approved. We also submitted Statutory Declaration 2 of his friends and 3 from my side. Phone records, itinerary, wester union receipts. pictures etc. Just message if you have any questions. Good luck just be patient it will come. \\n\\nRegards, \\nAnny\", \"Hi Anny, wonderful for you quick response that's amazing. as you said that the NZ citizen is your partner and your kids included in the application? correct if iam wrong. from my case, my 14 yrs old is a NZ citizen and my wife and I will apply for 461. so in this case, i donot think i need to use Statutory Declaration form, right? one more thing, you apply online or hard copies. sorry for asking lots but i am just at the the beginning stage, not doing anything particular just try to understand how 461 works. thankyou very much Anny\", 'Any update guys ?', \"Quote:\\n\\n\\n\\n\\r\\n\\t\\t\\t\\t\\tOriginally Posted by kytran_8\\n\\n\\nHi Anny, wonderful for you quick response that's amazing. as you said that the NZ citizen is your partner and your kids included in the application? correct if iam wrong. from my case, my 14 yrs old is a NZ citizen and my wife and I will apply for 461. so in this case, i donot think i need to use Statutory Declaration form, right? one more thing, you apply online or hard copies. sorry for asking lots but i am just at the the beginning stage, not doing anything particular just try to understand how 461 works. thankyou very much Anny\\n\\n\\n\\n\\r\\nDear kytran_8, \\n\\r\\nHi, yes my kids was granted as well, 5 years multiple entry in Australia. For your question of the statutory declaration, if the requirements indicate that you should include statutory declaration(s) you should follow the requirements. Anything that could help your application, you should include it in your application. I applied in the designated office in manila as they indicated on their website. I submitted hard copies as for this visa application in manila, it is only through VFS for visa sub class 461. I hope this information helps you.\", 'Any update or visa grant news here?', \"Keen to hear if anyone has been granted a visa recently and how long their wait was. I lodged my application in Sydney mid-April and I haven't heard anything yet.\"]\n"
     ]
    }
   ],
   "source": [
    "#TESTING WOTH JUST ONE URL TO SEE IF THE TAGS AND REGEX WORKS\n",
    "#url = 'https://www.australiaforum.com/visas-immigration/231066-461-visa-timeline-any-updates-2017-a.html'\n",
    "\n",
    "#testforum = requests.get(url)\n",
    "#testsoup = bs(testforum.text, 'html.parser')\n",
    "#messages = testsoup.find_all('div', {'id': (re.compile('post_message'))})\n",
    "#print(messages)\n",
    "#content = list(map(lambda h: h.text.strip(), messages))\n",
    "#print(content)"
   ]
  },
  {
   "cell_type": "code",
   "execution_count": 92,
   "metadata": {},
   "outputs": [
    {
     "ename": "InvalidSchema",
     "evalue": "No connection adapters were found for '['https://www.australiaforum.com/visas-immigration/250194-permanent-partner-visas-801-100-eligibility-notification.html', 'https://www.australiaforum.com/visas-immigration/252474-registered-migration-agents.html', 'https://www.australiaforum.com/visas-immigration/38930-820-temporary-onshore-waiting-room.html', 'https://www.australiaforum.com/visas-immigration/288749-question-can-i-travel.html', 'https://www.australiaforum.com/visas-immigration/280753-partner-visa-309-processing-time-beirut-office.html', 'https://www.australiaforum.com/visas-immigration/288745-visa-489-qs-sa.html', 'https://www.australiaforum.com/visas-immigration/231066-461-visa-timeline-any-updates-2017-a.html', 'https://www.australiaforum.com/visas-immigration/285659-bva-bvb-work-rights-reset.html', 'https://www.australiaforum.com/visas-immigration/212762-permanent-partner-visa-subclass-801-waiting-group.html', 'https://www.australiaforum.com/visas-immigration/287149-partner-visa-2nd-stage.html', 'https://www.australiaforum.com/visas-immigration/288743-holidays-question.html', 'https://www.australiaforum.com/visas-immigration/195794-partner-visa-applications-pretoria-south-africa.html', 'https://www.australiaforum.com/visas-immigration/284215-309-visa-application-nairobi-kenya.html', 'https://www.australiaforum.com/visas-immigration/262570-visa-processing-time.html', 'https://www.australiaforum.com/visas-immigration/57865-pmv-partner-visa-cairo-waiting-room.html', 'https://www.australiaforum.com/visas-immigration/286359-tourist-student-visa-whilst-waiting-partner-visa.html', 'https://www.australiaforum.com/visas-immigration/288689-pmv-300-ready-finalised.html', 'https://www.australiaforum.com/visas-immigration/286589-australian-citizenship-2019-onward-applications.html', 'https://www.australiaforum.com/visas-immigration/285821-pmv-300-2019-grants-philippines.html', 'https://www.australiaforum.com/visas-immigration/288709-tourist-visa.html', 'https://www.australiaforum.com/visas-immigration/137434-permanent-partner-visa-subclass-100-waiting-group.html', 'https://www.australiaforum.com/visas-immigration/288721-advice-190-820-482-pathways-quick-work-readiness.html']'",
     "output_type": "error",
     "traceback": [
      "\u001b[0;31m---------------------------------------------------------------------------\u001b[0m",
      "\u001b[0;31mInvalidSchema\u001b[0m                             Traceback (most recent call last)",
      "\u001b[0;32m<ipython-input-92-4615828158e3>\u001b[0m in \u001b[0;36m<module>\u001b[0;34m()\u001b[0m\n\u001b[0;32m----> 1\u001b[0;31m \u001b[0;32mfor\u001b[0m \u001b[0mi\u001b[0m \u001b[0;32min\u001b[0m \u001b[0mrequests\u001b[0m\u001b[0;34m.\u001b[0m\u001b[0mget\u001b[0m\u001b[0;34m(\u001b[0m\u001b[0mtitles\u001b[0m\u001b[0;34m[\u001b[0m\u001b[0;36m0\u001b[0m\u001b[0;34m:\u001b[0m\u001b[0;34m]\u001b[0m\u001b[0;34m)\u001b[0m\u001b[0;34m:\u001b[0m\u001b[0;34m\u001b[0m\u001b[0;34m\u001b[0m\u001b[0m\n\u001b[0m\u001b[1;32m      2\u001b[0m     \u001b[0mbs\u001b[0m\u001b[0;34m(\u001b[0m\u001b[0mmurl\u001b[0m\u001b[0;34m.\u001b[0m\u001b[0mtext\u001b[0m\u001b[0;34m,\u001b[0m \u001b[0;34m'html.parser'\u001b[0m\u001b[0;34m)\u001b[0m\u001b[0;34m\u001b[0m\u001b[0;34m\u001b[0m\u001b[0m\n\u001b[1;32m      3\u001b[0m     \u001b[0mmessages\u001b[0m \u001b[0;34m=\u001b[0m \u001b[0mmsoup\u001b[0m\u001b[0;34m.\u001b[0m\u001b[0mfind_all\u001b[0m\u001b[0;34m(\u001b[0m\u001b[0;34m'div'\u001b[0m\u001b[0;34m,\u001b[0m \u001b[0;34m{\u001b[0m\u001b[0;34m'id'\u001b[0m\u001b[0;34m:\u001b[0m \u001b[0;34m(\u001b[0m\u001b[0mre\u001b[0m\u001b[0;34m.\u001b[0m\u001b[0mcompile\u001b[0m\u001b[0;34m(\u001b[0m\u001b[0;34m'post_message_'\u001b[0m\u001b[0;34m)\u001b[0m\u001b[0;34m)\u001b[0m\u001b[0;34m}\u001b[0m\u001b[0;34m)\u001b[0m\u001b[0;34m\u001b[0m\u001b[0;34m\u001b[0m\u001b[0m\n\u001b[1;32m      4\u001b[0m     \u001b[0mcontent\u001b[0m \u001b[0;34m=\u001b[0m \u001b[0mlist\u001b[0m\u001b[0;34m(\u001b[0m\u001b[0mmap\u001b[0m\u001b[0;34m(\u001b[0m\u001b[0;32mlambda\u001b[0m \u001b[0mh\u001b[0m\u001b[0;34m:\u001b[0m \u001b[0mh\u001b[0m\u001b[0;34m.\u001b[0m\u001b[0mtext\u001b[0m\u001b[0;34m.\u001b[0m\u001b[0mstrip\u001b[0m\u001b[0;34m(\u001b[0m\u001b[0;34m)\u001b[0m\u001b[0;34m,\u001b[0m \u001b[0mmessages\u001b[0m\u001b[0;34m)\u001b[0m\u001b[0;34m)\u001b[0m\u001b[0;34m\u001b[0m\u001b[0;34m\u001b[0m\u001b[0m\n",
      "\u001b[0;32m/anaconda3/lib/python3.6/site-packages/requests/api.py\u001b[0m in \u001b[0;36mget\u001b[0;34m(url, params, **kwargs)\u001b[0m\n\u001b[1;32m     70\u001b[0m \u001b[0;34m\u001b[0m\u001b[0m\n\u001b[1;32m     71\u001b[0m     \u001b[0mkwargs\u001b[0m\u001b[0;34m.\u001b[0m\u001b[0msetdefault\u001b[0m\u001b[0;34m(\u001b[0m\u001b[0;34m'allow_redirects'\u001b[0m\u001b[0;34m,\u001b[0m \u001b[0;32mTrue\u001b[0m\u001b[0;34m)\u001b[0m\u001b[0;34m\u001b[0m\u001b[0;34m\u001b[0m\u001b[0m\n\u001b[0;32m---> 72\u001b[0;31m     \u001b[0;32mreturn\u001b[0m \u001b[0mrequest\u001b[0m\u001b[0;34m(\u001b[0m\u001b[0;34m'get'\u001b[0m\u001b[0;34m,\u001b[0m \u001b[0murl\u001b[0m\u001b[0;34m,\u001b[0m \u001b[0mparams\u001b[0m\u001b[0;34m=\u001b[0m\u001b[0mparams\u001b[0m\u001b[0;34m,\u001b[0m \u001b[0;34m**\u001b[0m\u001b[0mkwargs\u001b[0m\u001b[0;34m)\u001b[0m\u001b[0;34m\u001b[0m\u001b[0;34m\u001b[0m\u001b[0m\n\u001b[0m\u001b[1;32m     73\u001b[0m \u001b[0;34m\u001b[0m\u001b[0m\n\u001b[1;32m     74\u001b[0m \u001b[0;34m\u001b[0m\u001b[0m\n",
      "\u001b[0;32m/anaconda3/lib/python3.6/site-packages/requests/api.py\u001b[0m in \u001b[0;36mrequest\u001b[0;34m(method, url, **kwargs)\u001b[0m\n\u001b[1;32m     56\u001b[0m     \u001b[0;31m# cases, and look like a memory leak in others.\u001b[0m\u001b[0;34m\u001b[0m\u001b[0;34m\u001b[0m\u001b[0;34m\u001b[0m\u001b[0m\n\u001b[1;32m     57\u001b[0m     \u001b[0;32mwith\u001b[0m \u001b[0msessions\u001b[0m\u001b[0;34m.\u001b[0m\u001b[0mSession\u001b[0m\u001b[0;34m(\u001b[0m\u001b[0;34m)\u001b[0m \u001b[0;32mas\u001b[0m \u001b[0msession\u001b[0m\u001b[0;34m:\u001b[0m\u001b[0;34m\u001b[0m\u001b[0;34m\u001b[0m\u001b[0m\n\u001b[0;32m---> 58\u001b[0;31m         \u001b[0;32mreturn\u001b[0m \u001b[0msession\u001b[0m\u001b[0;34m.\u001b[0m\u001b[0mrequest\u001b[0m\u001b[0;34m(\u001b[0m\u001b[0mmethod\u001b[0m\u001b[0;34m=\u001b[0m\u001b[0mmethod\u001b[0m\u001b[0;34m,\u001b[0m \u001b[0murl\u001b[0m\u001b[0;34m=\u001b[0m\u001b[0murl\u001b[0m\u001b[0;34m,\u001b[0m \u001b[0;34m**\u001b[0m\u001b[0mkwargs\u001b[0m\u001b[0;34m)\u001b[0m\u001b[0;34m\u001b[0m\u001b[0;34m\u001b[0m\u001b[0m\n\u001b[0m\u001b[1;32m     59\u001b[0m \u001b[0;34m\u001b[0m\u001b[0m\n\u001b[1;32m     60\u001b[0m \u001b[0;34m\u001b[0m\u001b[0m\n",
      "\u001b[0;32m/anaconda3/lib/python3.6/site-packages/requests/sessions.py\u001b[0m in \u001b[0;36mrequest\u001b[0;34m(self, method, url, params, data, headers, cookies, files, auth, timeout, allow_redirects, proxies, hooks, stream, verify, cert, json)\u001b[0m\n\u001b[1;32m    506\u001b[0m         }\n\u001b[1;32m    507\u001b[0m         \u001b[0msend_kwargs\u001b[0m\u001b[0;34m.\u001b[0m\u001b[0mupdate\u001b[0m\u001b[0;34m(\u001b[0m\u001b[0msettings\u001b[0m\u001b[0;34m)\u001b[0m\u001b[0;34m\u001b[0m\u001b[0;34m\u001b[0m\u001b[0m\n\u001b[0;32m--> 508\u001b[0;31m         \u001b[0mresp\u001b[0m \u001b[0;34m=\u001b[0m \u001b[0mself\u001b[0m\u001b[0;34m.\u001b[0m\u001b[0msend\u001b[0m\u001b[0;34m(\u001b[0m\u001b[0mprep\u001b[0m\u001b[0;34m,\u001b[0m \u001b[0;34m**\u001b[0m\u001b[0msend_kwargs\u001b[0m\u001b[0;34m)\u001b[0m\u001b[0;34m\u001b[0m\u001b[0;34m\u001b[0m\u001b[0m\n\u001b[0m\u001b[1;32m    509\u001b[0m \u001b[0;34m\u001b[0m\u001b[0m\n\u001b[1;32m    510\u001b[0m         \u001b[0;32mreturn\u001b[0m \u001b[0mresp\u001b[0m\u001b[0;34m\u001b[0m\u001b[0;34m\u001b[0m\u001b[0m\n",
      "\u001b[0;32m/anaconda3/lib/python3.6/site-packages/requests/sessions.py\u001b[0m in \u001b[0;36msend\u001b[0;34m(self, request, **kwargs)\u001b[0m\n\u001b[1;32m    610\u001b[0m \u001b[0;34m\u001b[0m\u001b[0m\n\u001b[1;32m    611\u001b[0m         \u001b[0;31m# Get the appropriate adapter to use\u001b[0m\u001b[0;34m\u001b[0m\u001b[0;34m\u001b[0m\u001b[0;34m\u001b[0m\u001b[0m\n\u001b[0;32m--> 612\u001b[0;31m         \u001b[0madapter\u001b[0m \u001b[0;34m=\u001b[0m \u001b[0mself\u001b[0m\u001b[0;34m.\u001b[0m\u001b[0mget_adapter\u001b[0m\u001b[0;34m(\u001b[0m\u001b[0murl\u001b[0m\u001b[0;34m=\u001b[0m\u001b[0mrequest\u001b[0m\u001b[0;34m.\u001b[0m\u001b[0murl\u001b[0m\u001b[0;34m)\u001b[0m\u001b[0;34m\u001b[0m\u001b[0;34m\u001b[0m\u001b[0m\n\u001b[0m\u001b[1;32m    613\u001b[0m \u001b[0;34m\u001b[0m\u001b[0m\n\u001b[1;32m    614\u001b[0m         \u001b[0;31m# Start time (approximately) of the request\u001b[0m\u001b[0;34m\u001b[0m\u001b[0;34m\u001b[0m\u001b[0;34m\u001b[0m\u001b[0m\n",
      "\u001b[0;32m/anaconda3/lib/python3.6/site-packages/requests/sessions.py\u001b[0m in \u001b[0;36mget_adapter\u001b[0;34m(self, url)\u001b[0m\n\u001b[1;32m    701\u001b[0m \u001b[0;34m\u001b[0m\u001b[0m\n\u001b[1;32m    702\u001b[0m         \u001b[0;31m# Nothing matches :-/\u001b[0m\u001b[0;34m\u001b[0m\u001b[0;34m\u001b[0m\u001b[0;34m\u001b[0m\u001b[0m\n\u001b[0;32m--> 703\u001b[0;31m         \u001b[0;32mraise\u001b[0m \u001b[0mInvalidSchema\u001b[0m\u001b[0;34m(\u001b[0m\u001b[0;34m\"No connection adapters were found for '%s'\"\u001b[0m \u001b[0;34m%\u001b[0m \u001b[0murl\u001b[0m\u001b[0;34m)\u001b[0m\u001b[0;34m\u001b[0m\u001b[0;34m\u001b[0m\u001b[0m\n\u001b[0m\u001b[1;32m    704\u001b[0m \u001b[0;34m\u001b[0m\u001b[0m\n\u001b[1;32m    705\u001b[0m     \u001b[0;32mdef\u001b[0m \u001b[0mclose\u001b[0m\u001b[0;34m(\u001b[0m\u001b[0mself\u001b[0m\u001b[0;34m)\u001b[0m\u001b[0;34m:\u001b[0m\u001b[0;34m\u001b[0m\u001b[0;34m\u001b[0m\u001b[0m\n",
      "\u001b[0;31mInvalidSchema\u001b[0m: No connection adapters were found for '['https://www.australiaforum.com/visas-immigration/250194-permanent-partner-visas-801-100-eligibility-notification.html', 'https://www.australiaforum.com/visas-immigration/252474-registered-migration-agents.html', 'https://www.australiaforum.com/visas-immigration/38930-820-temporary-onshore-waiting-room.html', 'https://www.australiaforum.com/visas-immigration/288749-question-can-i-travel.html', 'https://www.australiaforum.com/visas-immigration/280753-partner-visa-309-processing-time-beirut-office.html', 'https://www.australiaforum.com/visas-immigration/288745-visa-489-qs-sa.html', 'https://www.australiaforum.com/visas-immigration/231066-461-visa-timeline-any-updates-2017-a.html', 'https://www.australiaforum.com/visas-immigration/285659-bva-bvb-work-rights-reset.html', 'https://www.australiaforum.com/visas-immigration/212762-permanent-partner-visa-subclass-801-waiting-group.html', 'https://www.australiaforum.com/visas-immigration/287149-partner-visa-2nd-stage.html', 'https://www.australiaforum.com/visas-immigration/288743-holidays-question.html', 'https://www.australiaforum.com/visas-immigration/195794-partner-visa-applications-pretoria-south-africa.html', 'https://www.australiaforum.com/visas-immigration/284215-309-visa-application-nairobi-kenya.html', 'https://www.australiaforum.com/visas-immigration/262570-visa-processing-time.html', 'https://www.australiaforum.com/visas-immigration/57865-pmv-partner-visa-cairo-waiting-room.html', 'https://www.australiaforum.com/visas-immigration/286359-tourist-student-visa-whilst-waiting-partner-visa.html', 'https://www.australiaforum.com/visas-immigration/288689-pmv-300-ready-finalised.html', 'https://www.australiaforum.com/visas-immigration/286589-australian-citizenship-2019-onward-applications.html', 'https://www.australiaforum.com/visas-immigration/285821-pmv-300-2019-grants-philippines.html', 'https://www.australiaforum.com/visas-immigration/288709-tourist-visa.html', 'https://www.australiaforum.com/visas-immigration/137434-permanent-partner-visa-subclass-100-waiting-group.html', 'https://www.australiaforum.com/visas-immigration/288721-advice-190-820-482-pathways-quick-work-readiness.html']'"
     ]
    }
   ],
   "source": [
    "for i in requests.get(titles[0:]):\n",
    "    bs(murl.text, 'html.parser')\n",
    "    messages = msoup.find_all('div', {'id': (re.compile('post_message_'))})\n",
    "    content = list(map(lambda h: h.text.strip(), messages))"
   ]
  },
  {
   "cell_type": "code",
   "execution_count": null,
   "metadata": {},
   "outputs": [],
   "source": []
  }
 ],
 "metadata": {
  "kernelspec": {
   "display_name": "Python 3",
   "language": "python",
   "name": "python3"
  },
  "language_info": {
   "codemirror_mode": {
    "name": "ipython",
    "version": 3
   },
   "file_extension": ".py",
   "mimetype": "text/x-python",
   "name": "python",
   "nbconvert_exporter": "python",
   "pygments_lexer": "ipython3",
   "version": "3.6.8"
  }
 },
 "nbformat": 4,
 "nbformat_minor": 2
}
