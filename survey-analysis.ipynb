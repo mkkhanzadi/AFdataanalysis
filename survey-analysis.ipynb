{
 "cells": [
  {
   "cell_type": "code",
   "execution_count": 1,
   "metadata": {},
   "outputs": [],
   "source": [
    "import numpy as np\n",
    "import pandas as pd\n",
    "import matplotlib.pyplot as plt\n",
    "\n"
   ]
  },
  {
   "cell_type": "code",
   "execution_count": 2,
   "metadata": {},
   "outputs": [],
   "source": [
    "plt.style.use('ggplot')"
   ]
  },
  {
   "cell_type": "code",
   "execution_count": 3,
   "metadata": {},
   "outputs": [],
   "source": [
    "# For later on\n",
    "import geopandas as gpd\n",
    "\n",
    "from mpl_toolkits.mplot3d import Axes3D\n",
    "\n",
    "from sklearn import decomposition\n",
    "from sklearn import datasets\n"
   ]
  },
  {
   "cell_type": "code",
   "execution_count": 4,
   "metadata": {},
   "outputs": [],
   "source": [
    "df = pd.read_csv('survey-2020.csv')"
   ]
  },
  {
   "cell_type": "code",
   "execution_count": 5,
   "metadata": {},
   "outputs": [
    {
     "name": "stdout",
     "output_type": "stream",
     "text": [
      "Unnamed: 0\n",
      "factor_expansion\n",
      "grupo_edad\n",
      "Location\n",
      "id\n",
      "En.el.contexto.del.COVID.19...con.cuál.de.las.siguientes.emociones.te.has.identificado.más.\n",
      "Sufrimiento.de.los.demás\n",
      "Incertidumbre.por.el.futuro\n",
      "Satisfacción.de.necesidades.personales.y.familiares\n",
      "Temor.por.la.vida.propia.y.de.mis.cercanos\n",
      "Acción.de.las.autoridades\n",
      "Autocuidado\n",
      "Temas.laborales\n",
      "Cómo.aportar\n",
      "Educación\n",
      "Salud\n",
      "Medioambiente\n",
      "Energía\n",
      "Seguridad.Pública\n",
      "Turismo\n",
      "Adultos.mayores\n",
      "Empleo\n",
      "Transporte\n",
      "Vivienda\n",
      "Vínculo.con.la.Antártica\n",
      "Más.allá.de.la.pandemia.por.COVID.19..durante.los.últimos.tres.años...cuán.preocupado.a..has.estado.sobre.la.calidad.de.vida.en\n",
      "Cambio.climático\n",
      "Contaminación.del.agua\n",
      "Contaminación.del.aire\n",
      "Pérdida.de.flora.y.fauna\n",
      "Sequía\n",
      "Calor.extremo\n",
      "Basura.y.suciedad.en.las.calles\n",
      "X.Qué.sientes.respecto.del..futuro.de.la.Antártica.en.los.próximos.20.años..\n",
      "X.Cuán.informado.te.sientes.sobre.la.relación.de.tu.ciudad.con.la.Antártida.\n",
      "Firmé.una.petición.o.carta.pública\n",
      "Asistí.a.una.manifestación\n",
      "Asistí.a.una.exhibición.de.arte..festival.o.actividad.cultural\n",
      "Asistí.a.una.reunión.comunitaria.o.foro\n",
      "Fui.parte.de.una.actividad.turística\n",
      "Asistí.a.una.conferencia.o.a.una.reunión.científica\n",
      "Participé.en.un.proceso.de.planificación.de.las.autoridades.locales\n",
      "Mi.trabajo.tiene..o.ha.tenido..relación.con.la.Antártida\n",
      "No.he.participado.en.actividades.asociadas.a.la.Antártida\n",
      "Impactos.medioambientales\n",
      "Proximidad.geográfica\n",
      "Interés.político.y.nacional\n",
      "Interés.económico.y.comercial\n",
      "Patrimonio.cultural.e.histórico\n",
      "No.hay.mayor.conexión\n",
      "En.tu.opinión...es.la.Antártida.importante.para.la.identidad.de.tu.ciudad.\n",
      "Genera.orgullo\n",
      "Nos.impulsa.a.cuidar.el.medioambiente\n",
      "Genera.más.empleos\n",
      "Nos.da.un.sello.distintivo.como.ciudad\n",
      "Atrae.un.mayor.número.de.turistas\n",
      "Fortalece.un.sentido.de.pertenencia\n",
      "No.es.importante\n",
      "Enseñar.más.sobre.la.Antártida.en.colegios.y.cursos.universitarios\n",
      "Potenciar.el.compromiso.con.la.conservación.de.la.Antártida\n",
      "Abrir.la.participación.ciudadana.en.decisiones.locales.vinculadas.a.la.Antártida\n",
      "Potenciar.centros.e.iniciativas.culturales.sobre.la.Antártida\n",
      "Crear.más.empleos.vinculados.al.sector.antártico\n",
      "De.las.siguientes.opciones...cuál.crees.que.tu.ciudad.debiese.priorizar.\n",
      "X.Cuán.responsables.sientes.que.son.tú..tu.familia.y.tus.amigos.por.el.futuro.de.la.Antártida.\n",
      "El.gobierno.local.debe.liderar.el.desarrollo.de.un.plan.para.integrar.la.Antártida.al.futuro.de.mi.ciudad.\n",
      "El.sector.privado.debiera.jugar.un.rol.importante.en.el.desarrollo.de.un.plan.para.integrar.la.Antártida.al.futuro.de.mi.ciudad\n",
      "La.sociedad.civil.debiera.jugar.un.rol.importante.en.el.desarrollo.de.un.plan.para.integrar.la.Antártida.al.futuro.de.mi.ciudad\n",
      "Las.instituciones.científicas.debieran.jugar.un.rol.importante.en.el.desarrollo.de.un.plan.para.integrar.la.Antártida.al.futuro\n",
      "Los.valores.antárticos.de.paz..cooperación.y.conservación.debieran.estar.presentes.en.la.forma.de.vida.de.mi.ciudad.\n",
      "En.tu.opinión...cuál.es.la.fuente.de.información.más.confiable.para.informarse.sobre.lo.que.sucede.en.la.Antártida.\n",
      "X.Qué.red.social.\n",
      "Sexo\n",
      "Edad\n",
      "Experto.a..en.la.Antártida\n",
      "Tecnológico.a.\n",
      "Conservador.a.\n",
      "Progresista\n",
      "Ecológico.a.\n",
      "Orientado.a..a.los.negocios\n",
      "Pueblo.originario\n",
      "Inmigrante\n",
      "Activista\n",
      "Feminista\n",
      "Liberal\n",
      "X.Cuál.es.el.nivel.educacional.más.alto.que.has.alcanzado.\n",
      "Por.favor..indica.cuál.es.tu.ocupación.actual.\n",
      "X.En.qué.sector.de.la.industria.trabajas.actualmente.\n",
      "grupo_edad.1\n",
      "Pais\n",
      "Year\n"
     ]
    }
   ],
   "source": [
    "# iterating the columns \n",
    "for col in df.columns: \n",
    "    print(col) "
   ]
  },
  {
   "cell_type": "code",
   "execution_count": 6,
   "metadata": {},
   "outputs": [],
   "source": [
    "vc = df['Location'].value_counts()"
   ]
  },
  {
   "cell_type": "code",
   "execution_count": 7,
   "metadata": {},
   "outputs": [
    {
     "data": {
      "text/plain": [
       "Cape Town       388\n",
       "Ushuaia         353\n",
       "Punta Arenas    345\n",
       "Christchurch    297\n",
       "Hobart          276\n",
       "Name: Location, dtype: int64"
      ]
     },
     "execution_count": 7,
     "metadata": {},
     "output_type": "execute_result"
    }
   ],
   "source": [
    "vc"
   ]
  },
  {
   "cell_type": "code",
   "execution_count": 8,
   "metadata": {},
   "outputs": [
    {
     "data": {
      "text/plain": [
       "<AxesSubplot:>"
      ]
     },
     "execution_count": 8,
     "metadata": {},
     "output_type": "execute_result"
    },
    {
     "data": {
      "image/png": "[encoded data removed]",
      "text/plain": [
       "<Figure size 432x288 with 1 Axes>"
      ]
     },
     "metadata": {},
     "output_type": "display_data"
    }
   ],
   "source": [
    "vc.plot.bar(color='green')"
   ]
  },
  {
   "cell_type": "code",
   "execution_count": 39,
   "metadata": {
    "scrolled": true
   },
   "outputs": [
    {
     "data": {
      "text/plain": [
       "De acuerdo           780\n",
       "Muy de acuerdo       459\n",
       "En desacuerdo        276\n",
       "Muy en desacuerdo    144\n",
       "Name: El.sector.privado.debiera.jugar.un.rol.importante.en.el.desarrollo.de.un.plan.para.integrar.la.Antártida.al.futuro.de.mi.ciudad, dtype: int64"
      ]
     },
     "execution_count": 39,
     "metadata": {},
     "output_type": "execute_result"
    }
   ],
   "source": [
    "\n",
    "df['El.sector.privado.debiera.jugar.un.rol.importante.en.el.desarrollo.de.un.plan.para.integrar.la.Antártida.al.futuro.de.mi.ciudad'].value_counts()\n"
   ]
  },
  {
   "cell_type": "code",
   "execution_count": 31,
   "metadata": {},
   "outputs": [
    {
     "data": {
      "text/plain": [
       "<AxesSubplot:>"
      ]
     },
     "execution_count": 31,
     "metadata": {},
     "output_type": "execute_result"
    },
    {
     "data": {
      "image/png": "[encoded data removed]",
      "text/plain": [
       "<Figure size 432x288 with 1 Axes>"
      ]
     },
     "metadata": {},
     "output_type": "display_data"
    }
   ],
   "source": [
    "df['El.sector.privado.debiera.jugar.un.rol.importante.en.el.desarrollo.de.un.plan.para.integrar.la.Antártida.al.futuro.de.mi.ciudad'].value_counts().plot.bar()"
   ]
  },
  {
   "cell_type": "code",
   "execution_count": 38,
   "metadata": {},
   "outputs": [
    {
     "ename": "IndexError",
     "evalue": "index 10 is out of bounds for axis 0 with size 10",
     "output_type": "error",
     "traceback": [
      "\u001b[0;31m---------------------------------------------------------------------------\u001b[0m",
      "\u001b[0;31mIndexError\u001b[0m                                Traceback (most recent call last)",
      "\u001b[0;32m<ipython-input-38-acae6fa2111f>\u001b[0m in \u001b[0;36m<module>\u001b[0;34m\u001b[0m\n\u001b[1;32m      7\u001b[0m \u001b[0mcounter\u001b[0m \u001b[0;34m=\u001b[0m \u001b[0;36m1\u001b[0m\u001b[0;34m\u001b[0m\u001b[0;34m\u001b[0m\u001b[0m\n\u001b[1;32m      8\u001b[0m \u001b[0;32mfor\u001b[0m \u001b[0mcol\u001b[0m \u001b[0;32min\u001b[0m \u001b[0mdf\u001b[0m\u001b[0;34m.\u001b[0m\u001b[0mcolumns\u001b[0m\u001b[0;34m[\u001b[0m\u001b[0mstart_var\u001b[0m\u001b[0;34m:\u001b[0m\u001b[0mend_var\u001b[0m\u001b[0;34m]\u001b[0m\u001b[0;34m:\u001b[0m\u001b[0;34m\u001b[0m\u001b[0;34m\u001b[0m\u001b[0m\n\u001b[0;32m----> 9\u001b[0;31m     \u001b[0maxs\u001b[0m\u001b[0;34m[\u001b[0m\u001b[0mcounter\u001b[0m\u001b[0;34m]\u001b[0m\u001b[0;34m.\u001b[0m\u001b[0mplot\u001b[0m\u001b[0;34m(\u001b[0m\u001b[0mdf\u001b[0m\u001b[0;34m[\u001b[0m\u001b[0mcol\u001b[0m\u001b[0;34m]\u001b[0m\u001b[0;34m.\u001b[0m\u001b[0mvalue_counts\u001b[0m\u001b[0;34m(\u001b[0m\u001b[0;34m)\u001b[0m\u001b[0;34m)\u001b[0m\u001b[0;34m\u001b[0m\u001b[0;34m\u001b[0m\u001b[0m\n\u001b[0m\u001b[1;32m     10\u001b[0m     \u001b[0mcounter\u001b[0m \u001b[0;34m=\u001b[0m \u001b[0mcounter\u001b[0m \u001b[0;34m+\u001b[0m \u001b[0;36m1\u001b[0m\u001b[0;34m\u001b[0m\u001b[0;34m\u001b[0m\u001b[0m\n\u001b[1;32m     11\u001b[0m \u001b[0;34m\u001b[0m\u001b[0m\n",
      "\u001b[0;31mIndexError\u001b[0m: index 10 is out of bounds for axis 0 with size 10"
     ]
    },
    {
     "data": {
      "image/png": "[encoded data removed]",
      "text/plain": [
       "<Figure size 432x288 with 10 Axes>"
      ]
     },
     "metadata": {},
     "output_type": "display_data"
    }
   ],
   "source": [
    "# iterating the columns \n",
    "l = 10\n",
    "start_var = 4\n",
    "end_var = start_var + l\n",
    "fig, axs = plt.subplots(l)\n",
    "\n",
    "counter = 1\n",
    "for col in df.columns[start_var:end_var]: \n",
    "    axs[counter].plot(df[col].value_counts())\n",
    "    counter = counter + 1\n",
    "    "
   ]
  },
  {
   "cell_type": "code",
   "execution_count": 40,
   "metadata": {},
   "outputs": [
    {
     "data": {
      "text/plain": [
       "0     858\n",
       "1     544\n",
       "2    2119\n",
       "3      77\n",
       "4    2475\n",
       "Name: factor_expansion, dtype: int64"
      ]
     },
     "execution_count": 40,
     "metadata": {},
     "output_type": "execute_result"
    }
   ],
   "source": [
    "# Weights?\n",
    "\n",
    "df['factor_expansion'].head()"
   ]
  },
  {
   "cell_type": "code",
   "execution_count": 42,
   "metadata": {},
   "outputs": [
    {
     "data": {
      "text/plain": [
       "0    0.517179\n",
       "1    0.327908\n",
       "2    1.277275\n",
       "3    0.046414\n",
       "4    1.491863\n",
       "Name: factor_expansion, dtype: float64"
      ]
     },
     "execution_count": 42,
     "metadata": {},
     "output_type": "execute_result"
    }
   ],
   "source": [
    "(df['factor_expansion']/ len(df['factor_expansion'])).head()"
   ]
  },
  {
   "cell_type": "code",
   "execution_count": 44,
   "metadata": {},
   "outputs": [
    {
     "data": {
      "text/plain": [
       "414.75"
      ]
     },
     "execution_count": 44,
     "metadata": {},
     "output_type": "execute_result"
    }
   ],
   "source": [
    "df['El.sector.privado.debiera.jugar.un.rol.importante.en.el.desarrollo.de.un.plan.para.integrar.la.Antártida.al.futuro.de.mi.ciudad'].value_counts().mean()"
   ]
  },
  {
   "cell_type": "code",
   "execution_count": 10,
   "metadata": {},
   "outputs": [
    {
     "data": {
      "text/plain": [
       "Feminista    210\n",
       "Name: Feminista, dtype: int64"
      ]
     },
     "execution_count": 10,
     "metadata": {},
     "output_type": "execute_result"
    }
   ],
   "source": [
    "df['Feminista'].value_counts()"
   ]
  },
  {
   "cell_type": "code",
   "execution_count": null,
   "metadata": {},
   "outputs": [],
   "source": []
  }
 ],
 "metadata": {
  "kernelspec": {
   "display_name": "Python 3",
   "language": "python",
   "name": "python3"
  },
  "language_info": {
   "codemirror_mode": {
    "name": "ipython",
    "version": 3
   },
   "file_extension": ".py",
   "mimetype": "text/x-python",
   "name": "python",
   "nbconvert_exporter": "python",
   "pygments_lexer": "ipython3",
   "version": "3.8.5"
  }
 },
 "nbformat": 4,
 "nbformat_minor": 4
}
