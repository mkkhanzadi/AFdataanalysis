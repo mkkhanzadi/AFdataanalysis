{
 "cells": [
  {
   "cell_type": "code",
   "execution_count": 2,
   "metadata": {},
   "outputs": [],
   "source": [
    "import pandas as pd"
   ]
  },
  {
   "cell_type": "code",
   "execution_count": 3,
   "metadata": {},
   "outputs": [
    {
     "data": {
      "text/plain": [
       "262242"
      ]
     },
     "execution_count": 3,
     "metadata": {},
     "output_type": "execute_result"
    }
   ],
   "source": [
    "df = pd.read_csv('aus-forum.csv', index_col=0)\n",
    "#df[0:5]\n",
    "len(df)"
   ]
  },
  {
   "cell_type": "code",
   "execution_count": 4,
   "metadata": {},
   "outputs": [
    {
     "data": {
      "text/html": [
       "<div>\n",
       "<style scoped>\n",
       "    .dataframe tbody tr th:only-of-type {\n",
       "        vertical-align: middle;\n",
       "    }\n",
       "\n",
       "    .dataframe tbody tr th {\n",
       "        vertical-align: top;\n",
       "    }\n",
       "\n",
       "    .dataframe thead th {\n",
       "        text-align: right;\n",
       "    }\n",
       "</style>\n",
       "<table border=\"1\" class=\"dataframe\">\n",
       "  <thead>\n",
       "    <tr style=\"text-align: right;\">\n",
       "      <th></th>\n",
       "      <th>Link</th>\n",
       "      <th>Date</th>\n",
       "      <th>Username</th>\n",
       "      <th>Message</th>\n",
       "      <th>Country</th>\n",
       "      <th>Like</th>\n",
       "      <th>Topic</th>\n",
       "      <th>Thread</th>\n",
       "    </tr>\n",
       "    <tr>\n",
       "      <th>ID</th>\n",
       "      <th></th>\n",
       "      <th></th>\n",
       "      <th></th>\n",
       "      <th></th>\n",
       "      <th></th>\n",
       "      <th></th>\n",
       "      <th></th>\n",
       "      <th></th>\n",
       "    </tr>\n",
       "  </thead>\n",
       "  <tbody>\n",
       "    <tr>\n",
       "      <th>post1729882</th>\n",
       "      <td>https://www.australiaforum.com/visas-immigrati...</td>\n",
       "      <td>11-14-2017, 06:47 AM</td>\n",
       "      <td>Mish</td>\n",
       "      <td>\\r\\n\\t\\t\\t\\r\\n\\t\\t\\tHi All \\n \\nOn this forum ...</td>\n",
       "      <td>australia</td>\n",
       "      <td>3675.0</td>\n",
       "      <td>Visas and immigration</td>\n",
       "      <td>Registered Migration Agents</td>\n",
       "    </tr>\n",
       "    <tr>\n",
       "      <th>post1986845</th>\n",
       "      <td>https://www.australiaforum.com/visas-immigrati...</td>\n",
       "      <td>03-19-2020, 06:32 AM</td>\n",
       "      <td>aussiesteve</td>\n",
       "      <td>\\r\\n\\t\\t\\t\\r\\n\\t\\t\\tThis will certainly change...</td>\n",
       "      <td>australia</td>\n",
       "      <td>624.0</td>\n",
       "      <td>Visas and immigration</td>\n",
       "      <td>Total Ban on entry into Australia</td>\n",
       "    </tr>\n",
       "    <tr>\n",
       "      <th>post1986867</th>\n",
       "      <td>https://www.australiaforum.com/visas-immigrati...</td>\n",
       "      <td>03-19-2020, 09:09 AM</td>\n",
       "      <td>Sam1993</td>\n",
       "      <td>\\r\\n\\t\\t\\t\\r\\n\\t\\t\\tI have applied 820 visa an...</td>\n",
       "      <td>NaN</td>\n",
       "      <td>0.0</td>\n",
       "      <td>Visas and immigration</td>\n",
       "      <td>Total Ban on entry into Australia</td>\n",
       "    </tr>\n",
       "    <tr>\n",
       "      <th>post1986869</th>\n",
       "      <td>https://www.australiaforum.com/visas-immigrati...</td>\n",
       "      <td>03-19-2020, 09:33 AM</td>\n",
       "      <td>aussiesteve</td>\n",
       "      <td>\\n \\n Quote: \\n \\n \\n \\n \\r\\n\\t\\t\\t\\t\\tOrigina...</td>\n",
       "      <td>australia</td>\n",
       "      <td>624.0</td>\n",
       "      <td>Visas and immigration</td>\n",
       "      <td>Total Ban on entry into Australia</td>\n",
       "    </tr>\n",
       "    <tr>\n",
       "      <th>post1986871</th>\n",
       "      <td>https://www.australiaforum.com/visas-immigrati...</td>\n",
       "      <td>03-19-2020, 09:51 AM</td>\n",
       "      <td>SLBee</td>\n",
       "      <td>\\r\\n\\t\\t\\t\\r\\n\\t\\t\\tNo need for the partner vi...</td>\n",
       "      <td>NaN</td>\n",
       "      <td>15.0</td>\n",
       "      <td>Visas and immigration</td>\n",
       "      <td>Total Ban on entry into Australia</td>\n",
       "    </tr>\n",
       "  </tbody>\n",
       "</table>\n",
       "</div>"
      ],
      "text/plain": [
       "                                                          Link  \\\n",
       "ID                                                               \n",
       "post1729882  https://www.australiaforum.com/visas-immigrati...   \n",
       "post1986845  https://www.australiaforum.com/visas-immigrati...   \n",
       "post1986867  https://www.australiaforum.com/visas-immigrati...   \n",
       "post1986869  https://www.australiaforum.com/visas-immigrati...   \n",
       "post1986871  https://www.australiaforum.com/visas-immigrati...   \n",
       "\n",
       "                             Date     Username  \\\n",
       "ID                                               \n",
       "post1729882  11-14-2017, 06:47 AM         Mish   \n",
       "post1986845  03-19-2020, 06:32 AM  aussiesteve   \n",
       "post1986867  03-19-2020, 09:09 AM      Sam1993   \n",
       "post1986869  03-19-2020, 09:33 AM  aussiesteve   \n",
       "post1986871  03-19-2020, 09:51 AM        SLBee   \n",
       "\n",
       "                                                       Message    Country  \\\n",
       "ID                                                                          \n",
       "post1729882  \\r\\n\\t\\t\\t\\r\\n\\t\\t\\tHi All \\n \\nOn this forum ...  australia   \n",
       "post1986845  \\r\\n\\t\\t\\t\\r\\n\\t\\t\\tThis will certainly change...  australia   \n",
       "post1986867  \\r\\n\\t\\t\\t\\r\\n\\t\\t\\tI have applied 820 visa an...        NaN   \n",
       "post1986869  \\n \\n Quote: \\n \\n \\n \\n \\r\\n\\t\\t\\t\\t\\tOrigina...  australia   \n",
       "post1986871  \\r\\n\\t\\t\\t\\r\\n\\t\\t\\tNo need for the partner vi...        NaN   \n",
       "\n",
       "               Like                  Topic                             Thread  \n",
       "ID                                                                             \n",
       "post1729882  3675.0  Visas and immigration        Registered Migration Agents  \n",
       "post1986845   624.0  Visas and immigration  Total Ban on entry into Australia  \n",
       "post1986867     0.0  Visas and immigration  Total Ban on entry into Australia  \n",
       "post1986869   624.0  Visas and immigration  Total Ban on entry into Australia  \n",
       "post1986871    15.0  Visas and immigration  Total Ban on entry into Australia  "
      ]
     },
     "execution_count": 4,
     "metadata": {},
     "output_type": "execute_result"
    }
   ],
   "source": [
    "df = df.loc[:, ~df.columns.str.contains('^Unnamed')]\n",
    "df.head()"
   ]
  },
  {
   "cell_type": "code",
   "execution_count": 5,
   "metadata": {},
   "outputs": [],
   "source": [
    "testMessage = df[1:2]['Message'].values[0]"
   ]
  },
  {
   "cell_type": "code",
   "execution_count": 6,
   "metadata": {},
   "outputs": [],
   "source": [
    "from bs4 import BeautifulSoup as bs"
   ]
  },
  {
   "cell_type": "code",
   "execution_count": 7,
   "metadata": {},
   "outputs": [
    {
     "data": {
      "text/html": [
       "<div>\n",
       "<style scoped>\n",
       "    .dataframe tbody tr th:only-of-type {\n",
       "        vertical-align: middle;\n",
       "    }\n",
       "\n",
       "    .dataframe tbody tr th {\n",
       "        vertical-align: top;\n",
       "    }\n",
       "\n",
       "    .dataframe thead th {\n",
       "        text-align: right;\n",
       "    }\n",
       "</style>\n",
       "<table border=\"1\" class=\"dataframe\">\n",
       "  <thead>\n",
       "    <tr style=\"text-align: right;\">\n",
       "      <th></th>\n",
       "      <th>Link</th>\n",
       "      <th>Date</th>\n",
       "      <th>Username</th>\n",
       "      <th>Message</th>\n",
       "      <th>Country</th>\n",
       "      <th>Like</th>\n",
       "      <th>Topic</th>\n",
       "      <th>Thread</th>\n",
       "    </tr>\n",
       "    <tr>\n",
       "      <th>ID</th>\n",
       "      <th></th>\n",
       "      <th></th>\n",
       "      <th></th>\n",
       "      <th></th>\n",
       "      <th></th>\n",
       "      <th></th>\n",
       "      <th></th>\n",
       "      <th></th>\n",
       "    </tr>\n",
       "  </thead>\n",
       "  <tbody>\n",
       "    <tr>\n",
       "      <th>post1729882</th>\n",
       "      <td>https://www.australiaforum.com/visas-immigrati...</td>\n",
       "      <td>11-14-2017, 06:47 AM</td>\n",
       "      <td>Mish</td>\n",
       "      <td>\\r\\n\\t\\t\\t\\r\\n\\t\\t\\tHi All \\n \\nOn this forum ...</td>\n",
       "      <td>australia</td>\n",
       "      <td>3675.0</td>\n",
       "      <td>Visas and immigration</td>\n",
       "      <td>Registered Migration Agents</td>\n",
       "    </tr>\n",
       "    <tr>\n",
       "      <th>post1986845</th>\n",
       "      <td>https://www.australiaforum.com/visas-immigrati...</td>\n",
       "      <td>03-19-2020, 06:32 AM</td>\n",
       "      <td>aussiesteve</td>\n",
       "      <td>\\r\\n\\t\\t\\t\\r\\n\\t\\t\\tThis will certainly change...</td>\n",
       "      <td>australia</td>\n",
       "      <td>624.0</td>\n",
       "      <td>Visas and immigration</td>\n",
       "      <td>Total Ban on entry into Australia</td>\n",
       "    </tr>\n",
       "    <tr>\n",
       "      <th>post1986867</th>\n",
       "      <td>https://www.australiaforum.com/visas-immigrati...</td>\n",
       "      <td>03-19-2020, 09:09 AM</td>\n",
       "      <td>Sam1993</td>\n",
       "      <td>\\r\\n\\t\\t\\t\\r\\n\\t\\t\\tI have applied 820 visa an...</td>\n",
       "      <td>NaN</td>\n",
       "      <td>0.0</td>\n",
       "      <td>Visas and immigration</td>\n",
       "      <td>Total Ban on entry into Australia</td>\n",
       "    </tr>\n",
       "    <tr>\n",
       "      <th>post1986869</th>\n",
       "      <td>https://www.australiaforum.com/visas-immigrati...</td>\n",
       "      <td>03-19-2020, 09:33 AM</td>\n",
       "      <td>aussiesteve</td>\n",
       "      <td>\\n \\n Quote: \\n \\n \\n \\n \\r\\n\\t\\t\\t\\t\\tOrigina...</td>\n",
       "      <td>australia</td>\n",
       "      <td>624.0</td>\n",
       "      <td>Visas and immigration</td>\n",
       "      <td>Total Ban on entry into Australia</td>\n",
       "    </tr>\n",
       "    <tr>\n",
       "      <th>post1986871</th>\n",
       "      <td>https://www.australiaforum.com/visas-immigrati...</td>\n",
       "      <td>03-19-2020, 09:51 AM</td>\n",
       "      <td>SLBee</td>\n",
       "      <td>\\r\\n\\t\\t\\t\\r\\n\\t\\t\\tNo need for the partner vi...</td>\n",
       "      <td>NaN</td>\n",
       "      <td>15.0</td>\n",
       "      <td>Visas and immigration</td>\n",
       "      <td>Total Ban on entry into Australia</td>\n",
       "    </tr>\n",
       "  </tbody>\n",
       "</table>\n",
       "</div>"
      ],
      "text/plain": [
       "                                                          Link  \\\n",
       "ID                                                               \n",
       "post1729882  https://www.australiaforum.com/visas-immigrati...   \n",
       "post1986845  https://www.australiaforum.com/visas-immigrati...   \n",
       "post1986867  https://www.australiaforum.com/visas-immigrati...   \n",
       "post1986869  https://www.australiaforum.com/visas-immigrati...   \n",
       "post1986871  https://www.australiaforum.com/visas-immigrati...   \n",
       "\n",
       "                             Date     Username  \\\n",
       "ID                                               \n",
       "post1729882  11-14-2017, 06:47 AM         Mish   \n",
       "post1986845  03-19-2020, 06:32 AM  aussiesteve   \n",
       "post1986867  03-19-2020, 09:09 AM      Sam1993   \n",
       "post1986869  03-19-2020, 09:33 AM  aussiesteve   \n",
       "post1986871  03-19-2020, 09:51 AM        SLBee   \n",
       "\n",
       "                                                       Message    Country  \\\n",
       "ID                                                                          \n",
       "post1729882  \\r\\n\\t\\t\\t\\r\\n\\t\\t\\tHi All \\n \\nOn this forum ...  australia   \n",
       "post1986845  \\r\\n\\t\\t\\t\\r\\n\\t\\t\\tThis will certainly change...  australia   \n",
       "post1986867  \\r\\n\\t\\t\\t\\r\\n\\t\\t\\tI have applied 820 visa an...        NaN   \n",
       "post1986869  \\n \\n Quote: \\n \\n \\n \\n \\r\\n\\t\\t\\t\\t\\tOrigina...  australia   \n",
       "post1986871  \\r\\n\\t\\t\\t\\r\\n\\t\\t\\tNo need for the partner vi...        NaN   \n",
       "\n",
       "               Like                  Topic                             Thread  \n",
       "ID                                                                             \n",
       "post1729882  3675.0  Visas and immigration        Registered Migration Agents  \n",
       "post1986845   624.0  Visas and immigration  Total Ban on entry into Australia  \n",
       "post1986867     0.0  Visas and immigration  Total Ban on entry into Australia  \n",
       "post1986869   624.0  Visas and immigration  Total Ban on entry into Australia  \n",
       "post1986871    15.0  Visas and immigration  Total Ban on entry into Australia  "
      ]
     },
     "execution_count": 7,
     "metadata": {},
     "output_type": "execute_result"
    }
   ],
   "source": [
    "df = df[df['Message'].notnull()]\n",
    "df.head()"
   ]
  },
  {
   "cell_type": "code",
   "execution_count": 8,
   "metadata": {},
   "outputs": [
    {
     "data": {
      "text/html": [
       "<div>\n",
       "<style scoped>\n",
       "    .dataframe tbody tr th:only-of-type {\n",
       "        vertical-align: middle;\n",
       "    }\n",
       "\n",
       "    .dataframe tbody tr th {\n",
       "        vertical-align: top;\n",
       "    }\n",
       "\n",
       "    .dataframe thead th {\n",
       "        text-align: right;\n",
       "    }\n",
       "</style>\n",
       "<table border=\"1\" class=\"dataframe\">\n",
       "  <thead>\n",
       "    <tr style=\"text-align: right;\">\n",
       "      <th></th>\n",
       "      <th>Link</th>\n",
       "      <th>Date</th>\n",
       "      <th>Username</th>\n",
       "      <th>Message</th>\n",
       "      <th>Country</th>\n",
       "      <th>Like</th>\n",
       "      <th>Topic</th>\n",
       "      <th>Thread</th>\n",
       "      <th>Message_lowercase</th>\n",
       "    </tr>\n",
       "    <tr>\n",
       "      <th>ID</th>\n",
       "      <th></th>\n",
       "      <th></th>\n",
       "      <th></th>\n",
       "      <th></th>\n",
       "      <th></th>\n",
       "      <th></th>\n",
       "      <th></th>\n",
       "      <th></th>\n",
       "      <th></th>\n",
       "    </tr>\n",
       "  </thead>\n",
       "  <tbody>\n",
       "    <tr>\n",
       "      <th>post1729882</th>\n",
       "      <td>https://www.australiaforum.com/visas-immigrati...</td>\n",
       "      <td>11-14-2017, 06:47 AM</td>\n",
       "      <td>Mish</td>\n",
       "      <td>\\r\\n\\t\\t\\t\\r\\n\\t\\t\\tHi All \\n \\nOn this forum ...</td>\n",
       "      <td>australia</td>\n",
       "      <td>3675.0</td>\n",
       "      <td>Visas and immigration</td>\n",
       "      <td>Registered Migration Agents</td>\n",
       "      <td>hi all on this forum we are reguarly asked abo...</td>\n",
       "    </tr>\n",
       "    <tr>\n",
       "      <th>post1986845</th>\n",
       "      <td>https://www.australiaforum.com/visas-immigrati...</td>\n",
       "      <td>03-19-2020, 06:32 AM</td>\n",
       "      <td>aussiesteve</td>\n",
       "      <td>\\r\\n\\t\\t\\t\\r\\n\\t\\t\\tThis will certainly change...</td>\n",
       "      <td>australia</td>\n",
       "      <td>624.0</td>\n",
       "      <td>Visas and immigration</td>\n",
       "      <td>Total Ban on entry into Australia</td>\n",
       "      <td>this will certainly change everything australi...</td>\n",
       "    </tr>\n",
       "    <tr>\n",
       "      <th>post1986867</th>\n",
       "      <td>https://www.australiaforum.com/visas-immigrati...</td>\n",
       "      <td>03-19-2020, 09:09 AM</td>\n",
       "      <td>Sam1993</td>\n",
       "      <td>\\r\\n\\t\\t\\t\\r\\n\\t\\t\\tI have applied 820 visa an...</td>\n",
       "      <td>NaN</td>\n",
       "      <td>0.0</td>\n",
       "      <td>Visas and immigration</td>\n",
       "      <td>Total Ban on entry into Australia</td>\n",
       "      <td>i have applied 820 visa and i have bridging vi...</td>\n",
       "    </tr>\n",
       "    <tr>\n",
       "      <th>post1986869</th>\n",
       "      <td>https://www.australiaforum.com/visas-immigrati...</td>\n",
       "      <td>03-19-2020, 09:33 AM</td>\n",
       "      <td>aussiesteve</td>\n",
       "      <td>\\n \\n Quote: \\n \\n \\n \\n \\r\\n\\t\\t\\t\\t\\tOrigina...</td>\n",
       "      <td>australia</td>\n",
       "      <td>624.0</td>\n",
       "      <td>Visas and immigration</td>\n",
       "      <td>Total Ban on entry into Australia</td>\n",
       "      <td>quote: originally posted by sam1993 i have app...</td>\n",
       "    </tr>\n",
       "    <tr>\n",
       "      <th>post1986871</th>\n",
       "      <td>https://www.australiaforum.com/visas-immigrati...</td>\n",
       "      <td>03-19-2020, 09:51 AM</td>\n",
       "      <td>SLBee</td>\n",
       "      <td>\\r\\n\\t\\t\\t\\r\\n\\t\\t\\tNo need for the partner vi...</td>\n",
       "      <td>NaN</td>\n",
       "      <td>15.0</td>\n",
       "      <td>Visas and immigration</td>\n",
       "      <td>Total Ban on entry into Australia</td>\n",
       "      <td>no need for the partner visa applicants and sp...</td>\n",
       "    </tr>\n",
       "  </tbody>\n",
       "</table>\n",
       "</div>"
      ],
      "text/plain": [
       "                                                          Link  \\\n",
       "ID                                                               \n",
       "post1729882  https://www.australiaforum.com/visas-immigrati...   \n",
       "post1986845  https://www.australiaforum.com/visas-immigrati...   \n",
       "post1986867  https://www.australiaforum.com/visas-immigrati...   \n",
       "post1986869  https://www.australiaforum.com/visas-immigrati...   \n",
       "post1986871  https://www.australiaforum.com/visas-immigrati...   \n",
       "\n",
       "                             Date     Username  \\\n",
       "ID                                               \n",
       "post1729882  11-14-2017, 06:47 AM         Mish   \n",
       "post1986845  03-19-2020, 06:32 AM  aussiesteve   \n",
       "post1986867  03-19-2020, 09:09 AM      Sam1993   \n",
       "post1986869  03-19-2020, 09:33 AM  aussiesteve   \n",
       "post1986871  03-19-2020, 09:51 AM        SLBee   \n",
       "\n",
       "                                                       Message    Country  \\\n",
       "ID                                                                          \n",
       "post1729882  \\r\\n\\t\\t\\t\\r\\n\\t\\t\\tHi All \\n \\nOn this forum ...  australia   \n",
       "post1986845  \\r\\n\\t\\t\\t\\r\\n\\t\\t\\tThis will certainly change...  australia   \n",
       "post1986867  \\r\\n\\t\\t\\t\\r\\n\\t\\t\\tI have applied 820 visa an...        NaN   \n",
       "post1986869  \\n \\n Quote: \\n \\n \\n \\n \\r\\n\\t\\t\\t\\t\\tOrigina...  australia   \n",
       "post1986871  \\r\\n\\t\\t\\t\\r\\n\\t\\t\\tNo need for the partner vi...        NaN   \n",
       "\n",
       "               Like                  Topic                             Thread  \\\n",
       "ID                                                                              \n",
       "post1729882  3675.0  Visas and immigration        Registered Migration Agents   \n",
       "post1986845   624.0  Visas and immigration  Total Ban on entry into Australia   \n",
       "post1986867     0.0  Visas and immigration  Total Ban on entry into Australia   \n",
       "post1986869   624.0  Visas and immigration  Total Ban on entry into Australia   \n",
       "post1986871    15.0  Visas and immigration  Total Ban on entry into Australia   \n",
       "\n",
       "                                             Message_lowercase  \n",
       "ID                                                              \n",
       "post1729882  hi all on this forum we are reguarly asked abo...  \n",
       "post1986845  this will certainly change everything australi...  \n",
       "post1986867  i have applied 820 visa and i have bridging vi...  \n",
       "post1986869  quote: originally posted by sam1993 i have app...  \n",
       "post1986871  no need for the partner visa applicants and sp...  "
      ]
     },
     "execution_count": 8,
     "metadata": {},
     "output_type": "execute_result"
    }
   ],
   "source": [
    "df['Message_lowercase'] = df['Message'].apply(lambda x: \" \".join(x.lower() for x in x.split()))\n",
    "df.head()"
   ]
  },
  {
   "cell_type": "code",
   "execution_count": 9,
   "metadata": {},
   "outputs": [
    {
     "data": {
      "text/html": [
       "<div>\n",
       "<style scoped>\n",
       "    .dataframe tbody tr th:only-of-type {\n",
       "        vertical-align: middle;\n",
       "    }\n",
       "\n",
       "    .dataframe tbody tr th {\n",
       "        vertical-align: top;\n",
       "    }\n",
       "\n",
       "    .dataframe thead th {\n",
       "        text-align: right;\n",
       "    }\n",
       "</style>\n",
       "<table border=\"1\" class=\"dataframe\">\n",
       "  <thead>\n",
       "    <tr style=\"text-align: right;\">\n",
       "      <th></th>\n",
       "      <th>Link</th>\n",
       "      <th>Date</th>\n",
       "      <th>Username</th>\n",
       "      <th>Message</th>\n",
       "      <th>Country</th>\n",
       "      <th>Like</th>\n",
       "      <th>Topic</th>\n",
       "      <th>Thread</th>\n",
       "      <th>Message_lowercase</th>\n",
       "      <th>Message_nopunct</th>\n",
       "    </tr>\n",
       "    <tr>\n",
       "      <th>ID</th>\n",
       "      <th></th>\n",
       "      <th></th>\n",
       "      <th></th>\n",
       "      <th></th>\n",
       "      <th></th>\n",
       "      <th></th>\n",
       "      <th></th>\n",
       "      <th></th>\n",
       "      <th></th>\n",
       "      <th></th>\n",
       "    </tr>\n",
       "  </thead>\n",
       "  <tbody>\n",
       "    <tr>\n",
       "      <th>post1729882</th>\n",
       "      <td>https://www.australiaforum.com/visas-immigration/252474-registered-migration-agents.html#post172...</td>\n",
       "      <td>11-14-2017, 06:47 AM</td>\n",
       "      <td>Mish</td>\n",
       "      <td>\\r\\n\\t\\t\\t\\r\\n\\t\\t\\tHi All \\n \\nOn this forum we are reguarly asked about recommending a registe...</td>\n",
       "      <td>australia</td>\n",
       "      <td>3675.0</td>\n",
       "      <td>Visas and immigration</td>\n",
       "      <td>Registered Migration Agents</td>\n",
       "      <td>hi all on this forum we are reguarly asked about recommending a registered migration agent. ther...</td>\n",
       "      <td>hi all on this forum we are reguarly asked about recommending a registered migration agent there...</td>\n",
       "    </tr>\n",
       "    <tr>\n",
       "      <th>post1986845</th>\n",
       "      <td>https://www.australiaforum.com/visas-immigration/291701-total-ban-entry-into-australia.html#post...</td>\n",
       "      <td>03-19-2020, 06:32 AM</td>\n",
       "      <td>aussiesteve</td>\n",
       "      <td>\\r\\n\\t\\t\\t\\r\\n\\t\\t\\tThis will certainly change everything \\nAustralia blocks arrival of all non-...</td>\n",
       "      <td>australia</td>\n",
       "      <td>624.0</td>\n",
       "      <td>Visas and immigration</td>\n",
       "      <td>Total Ban on entry into Australia</td>\n",
       "      <td>this will certainly change everything australia blocks arrival of all non-residents in expanded ...</td>\n",
       "      <td>this will certainly change everything australia blocks arrival of all nonresidents in expanded c...</td>\n",
       "    </tr>\n",
       "    <tr>\n",
       "      <th>post1986867</th>\n",
       "      <td>https://www.australiaforum.com/visas-immigration/291701-total-ban-entry-into-australia.html#post...</td>\n",
       "      <td>03-19-2020, 09:09 AM</td>\n",
       "      <td>Sam1993</td>\n",
       "      <td>\\r\\n\\t\\t\\t\\r\\n\\t\\t\\tI have applied 820 visa and I have bridging visa B am I able to come to Aust...</td>\n",
       "      <td>NaN</td>\n",
       "      <td>0.0</td>\n",
       "      <td>Visas and immigration</td>\n",
       "      <td>Total Ban on entry into Australia</td>\n",
       "      <td>i have applied 820 visa and i have bridging visa b am i able to come to australia?</td>\n",
       "      <td>i have applied 820 visa and i have bridging visa b am i able to come to australia</td>\n",
       "    </tr>\n",
       "    <tr>\n",
       "      <th>post1986869</th>\n",
       "      <td>https://www.australiaforum.com/visas-immigration/291701-total-ban-entry-into-australia.html#post...</td>\n",
       "      <td>03-19-2020, 09:33 AM</td>\n",
       "      <td>aussiesteve</td>\n",
       "      <td>\\n \\n Quote: \\n \\n \\n \\n \\r\\n\\t\\t\\t\\t\\tOriginally Posted by  Sam1993 \\n \\n \\n I have applied 820...</td>\n",
       "      <td>australia</td>\n",
       "      <td>624.0</td>\n",
       "      <td>Visas and immigration</td>\n",
       "      <td>Total Ban on entry into Australia</td>\n",
       "      <td>quote: originally posted by sam1993 i have applied 820 visa and i have bridging visa b am i able...</td>\n",
       "      <td>quote originally posted by sam1993 i have applied 820 visa and i have bridging visa b am i able ...</td>\n",
       "    </tr>\n",
       "    <tr>\n",
       "      <th>post1986871</th>\n",
       "      <td>https://www.australiaforum.com/visas-immigration/291701-total-ban-entry-into-australia.html#post...</td>\n",
       "      <td>03-19-2020, 09:51 AM</td>\n",
       "      <td>SLBee</td>\n",
       "      <td>\\r\\n\\t\\t\\t\\r\\n\\t\\t\\tNo need for the partner visa applicants and sponsors to worry too much. \\n \\...</td>\n",
       "      <td>NaN</td>\n",
       "      <td>15.0</td>\n",
       "      <td>Visas and immigration</td>\n",
       "      <td>Total Ban on entry into Australia</td>\n",
       "      <td>no need for the partner visa applicants and sponsors to worry too much. total travel ban does no...</td>\n",
       "      <td>no need for the partner visa applicants and sponsors to worry too much total travel ban does not...</td>\n",
       "    </tr>\n",
       "  </tbody>\n",
       "</table>\n",
       "</div>"
      ],
      "text/plain": [
       "                                                                                                            Link  \\\n",
       "ID                                                                                                                 \n",
       "post1729882  https://www.australiaforum.com/visas-immigration/252474-registered-migration-agents.html#post172...   \n",
       "post1986845  https://www.australiaforum.com/visas-immigration/291701-total-ban-entry-into-australia.html#post...   \n",
       "post1986867  https://www.australiaforum.com/visas-immigration/291701-total-ban-entry-into-australia.html#post...   \n",
       "post1986869  https://www.australiaforum.com/visas-immigration/291701-total-ban-entry-into-australia.html#post...   \n",
       "post1986871  https://www.australiaforum.com/visas-immigration/291701-total-ban-entry-into-australia.html#post...   \n",
       "\n",
       "                             Date     Username  \\\n",
       "ID                                               \n",
       "post1729882  11-14-2017, 06:47 AM         Mish   \n",
       "post1986845  03-19-2020, 06:32 AM  aussiesteve   \n",
       "post1986867  03-19-2020, 09:09 AM      Sam1993   \n",
       "post1986869  03-19-2020, 09:33 AM  aussiesteve   \n",
       "post1986871  03-19-2020, 09:51 AM        SLBee   \n",
       "\n",
       "                                                                                                         Message  \\\n",
       "ID                                                                                                                 \n",
       "post1729882  \\r\\n\\t\\t\\t\\r\\n\\t\\t\\tHi All \\n \\nOn this forum we are reguarly asked about recommending a registe...   \n",
       "post1986845  \\r\\n\\t\\t\\t\\r\\n\\t\\t\\tThis will certainly change everything \\nAustralia blocks arrival of all non-...   \n",
       "post1986867  \\r\\n\\t\\t\\t\\r\\n\\t\\t\\tI have applied 820 visa and I have bridging visa B am I able to come to Aust...   \n",
       "post1986869  \\n \\n Quote: \\n \\n \\n \\n \\r\\n\\t\\t\\t\\t\\tOriginally Posted by  Sam1993 \\n \\n \\n I have applied 820...   \n",
       "post1986871  \\r\\n\\t\\t\\t\\r\\n\\t\\t\\tNo need for the partner visa applicants and sponsors to worry too much. \\n \\...   \n",
       "\n",
       "               Country    Like                  Topic  \\\n",
       "ID                                                      \n",
       "post1729882  australia  3675.0  Visas and immigration   \n",
       "post1986845  australia   624.0  Visas and immigration   \n",
       "post1986867        NaN     0.0  Visas and immigration   \n",
       "post1986869  australia   624.0  Visas and immigration   \n",
       "post1986871        NaN    15.0  Visas and immigration   \n",
       "\n",
       "                                        Thread  \\\n",
       "ID                                               \n",
       "post1729882        Registered Migration Agents   \n",
       "post1986845  Total Ban on entry into Australia   \n",
       "post1986867  Total Ban on entry into Australia   \n",
       "post1986869  Total Ban on entry into Australia   \n",
       "post1986871  Total Ban on entry into Australia   \n",
       "\n",
       "                                                                                               Message_lowercase  \\\n",
       "ID                                                                                                                 \n",
       "post1729882  hi all on this forum we are reguarly asked about recommending a registered migration agent. ther...   \n",
       "post1986845  this will certainly change everything australia blocks arrival of all non-residents in expanded ...   \n",
       "post1986867                   i have applied 820 visa and i have bridging visa b am i able to come to australia?   \n",
       "post1986869  quote: originally posted by sam1993 i have applied 820 visa and i have bridging visa b am i able...   \n",
       "post1986871  no need for the partner visa applicants and sponsors to worry too much. total travel ban does no...   \n",
       "\n",
       "                                                                                                 Message_nopunct  \n",
       "ID                                                                                                                \n",
       "post1729882  hi all on this forum we are reguarly asked about recommending a registered migration agent there...  \n",
       "post1986845  this will certainly change everything australia blocks arrival of all nonresidents in expanded c...  \n",
       "post1986867                    i have applied 820 visa and i have bridging visa b am i able to come to australia  \n",
       "post1986869  quote originally posted by sam1993 i have applied 820 visa and i have bridging visa b am i able ...  \n",
       "post1986871  no need for the partner visa applicants and sponsors to worry too much total travel ban does not...  "
      ]
     },
     "execution_count": 9,
     "metadata": {},
     "output_type": "execute_result"
    }
   ],
   "source": [
    "import string\n",
    "string.punctuation\n",
    "\n",
    "#widen the column\n",
    "pd.set_option('display.max_colwidth', 100)\n",
    "\n",
    "df['Message_nopunct'] = df['Message_lowercase'].apply(lambda x:''.join([i for i in x if i not in string.punctuation]))\n",
    "df.head()"
   ]
  },
  {
   "cell_type": "code",
   "execution_count": 10,
   "metadata": {},
   "outputs": [],
   "source": [
    "df['Date'] = pd.to_datetime(df['Date'])\n",
    "\n",
    "df = df[~(df['Date'] < '2016-01-01')]"
   ]
  },
  {
   "cell_type": "code",
   "execution_count": 11,
   "metadata": {},
   "outputs": [
    {
     "data": {
      "text/plain": [
       "106457"
      ]
     },
     "execution_count": 11,
     "metadata": {},
     "output_type": "execute_result"
    }
   ],
   "source": [
    "df.head()\n",
    "len(df)"
   ]
  },
  {
   "cell_type": "code",
   "execution_count": 39,
   "metadata": {},
   "outputs": [
    {
     "data": {
      "text/plain": [
       "6211"
      ]
     },
     "execution_count": 39,
     "metadata": {},
     "output_type": "execute_result"
    }
   ],
   "source": [
    "#Arrival\n",
    "\n",
    "Adf1 = df[df['Message_lowercase'].str.contains(\"arrival|entry|enter|airport|landing|departure\")]\n",
    "\n",
    "len(Adf1)"
   ]
  },
  {
   "cell_type": "code",
   "execution_count": 46,
   "metadata": {},
   "outputs": [
    {
     "data": {
      "text/plain": [
       "5.83"
      ]
     },
     "execution_count": 46,
     "metadata": {},
     "output_type": "execute_result"
    }
   ],
   "source": [
    "round(100 * len(Cf1) / len(df), 2)"
   ]
  },
  {
   "cell_type": "code",
   "execution_count": 46,
   "metadata": {},
   "outputs": [],
   "source": [
    "import csv\n",
    "with open(\"Aforum_arrival\", \"w\") as _file:\n",
    "    writer = csv.writer(_file)\n",
    "    writer.writerow(Adf1.columns.values)\n",
    "    for index, row in Adf1.iterrows():\n",
    "        writer.writerow(row)"
   ]
  },
  {
   "cell_type": "code",
   "execution_count": 12,
   "metadata": {},
   "outputs": [
    {
     "data": {
      "text/plain": [
       "13263"
      ]
     },
     "execution_count": 12,
     "metadata": {},
     "output_type": "execute_result"
    }
   ],
   "source": [
    "#Aspiration\n",
    "\n",
    "Adf2 = df[df['Message_lowercase'].str.contains(\"hope|aspire|ambition|wish|goal|aim|desire\")]\n",
    "len(Adf2)"
   ]
  },
  {
   "cell_type": "code",
   "execution_count": 48,
   "metadata": {},
   "outputs": [
    {
     "data": {
      "text/plain": [
       "12.46"
      ]
     },
     "execution_count": 48,
     "metadata": {},
     "output_type": "execute_result"
    }
   ],
   "source": [
    "round(100 * len(Adf2) / len(df), 2)"
   ]
  },
  {
   "cell_type": "code",
   "execution_count": 13,
   "metadata": {},
   "outputs": [],
   "source": [
    "import csv\n",
    "with open(\"Aforum_aspiration\", \"w\") as _file:\n",
    "    writer = csv.writer(_file)\n",
    "    writer.writerow(Adf2.columns.values)\n",
    "    for index, row in Adf2.iterrows():\n",
    "        writer.writerow(row)"
   ]
  },
  {
   "cell_type": "code",
   "execution_count": 17,
   "metadata": {},
   "outputs": [
    {
     "data": {
      "text/plain": [
       "12583"
      ]
     },
     "execution_count": 17,
     "metadata": {},
     "output_type": "execute_result"
    }
   ],
   "source": [
    "#Cost\n",
    "\n",
    "Adf3 = df[df['Message_lowercase'].str.contains(\"cost|money|expense|price|fee|amount|value\")]\n",
    "len(Adf3)"
   ]
  },
  {
   "cell_type": "code",
   "execution_count": 18,
   "metadata": {},
   "outputs": [
    {
     "data": {
      "text/plain": [
       "11.82"
      ]
     },
     "execution_count": 18,
     "metadata": {},
     "output_type": "execute_result"
    }
   ],
   "source": [
    "round(100 * len(Adf3) / len(df), 2)"
   ]
  },
  {
   "cell_type": "code",
   "execution_count": 16,
   "metadata": {},
   "outputs": [],
   "source": [
    "import csv\n",
    "with open(\"Aforum_cost\", \"w\") as _file:\n",
    "    writer = csv.writer(_file)\n",
    "    writer.writerow(Adf3.columns.values)\n",
    "    for index, row in Adf3.iterrows():\n",
    "        writer.writerow(row)"
   ]
  },
  {
   "cell_type": "code",
   "execution_count": 19,
   "metadata": {},
   "outputs": [
    {
     "data": {
      "text/plain": [
       "27843"
      ]
     },
     "execution_count": 19,
     "metadata": {},
     "output_type": "execute_result"
    }
   ],
   "source": [
    "#Decision\n",
    "\n",
    "Adf4 = df[df['Message_lowercase'].str.contains(\"decision|contemplate|think|advice|advise|option|recommendation|suggestion|choice\" or \"selection\" or \"decide\" or \"determine\")]\n",
    "len(Adf4)"
   ]
  },
  {
   "cell_type": "code",
   "execution_count": 20,
   "metadata": {},
   "outputs": [
    {
     "data": {
      "text/plain": [
       "26.15"
      ]
     },
     "execution_count": 20,
     "metadata": {},
     "output_type": "execute_result"
    }
   ],
   "source": [
    "round(100 * len(Adf4) / len(df), 2)"
   ]
  },
  {
   "cell_type": "code",
   "execution_count": 21,
   "metadata": {},
   "outputs": [],
   "source": [
    "import csv\n",
    "with open(\"Aforum_decison\", \"w\") as _file:\n",
    "    writer = csv.writer(_file)\n",
    "    writer.writerow(Adf4.columns.values)\n",
    "    for index, row in Adf4.iterrows():\n",
    "        writer.writerow(row)"
   ]
  },
  {
   "cell_type": "code",
   "execution_count": 23,
   "metadata": {},
   "outputs": [
    {
     "data": {
      "text/plain": [
       "6322"
      ]
     },
     "execution_count": 23,
     "metadata": {},
     "output_type": "execute_result"
    }
   ],
   "source": [
    "#Affect\n",
    "\n",
    "Adf5 = df[df['Message_lowercase'].str.contains(\"affect|effect|feeling|emotion|love|loss|sentiment|instinct|intuition|reaction\")]\n",
    "len(Adf5)"
   ]
  },
  {
   "cell_type": "code",
   "execution_count": 25,
   "metadata": {},
   "outputs": [
    {
     "data": {
      "text/plain": [
       "5.94"
      ]
     },
     "execution_count": 25,
     "metadata": {},
     "output_type": "execute_result"
    }
   ],
   "source": [
    "round(100 * len(Adf5) / len(df), 2)"
   ]
  },
  {
   "cell_type": "code",
   "execution_count": 26,
   "metadata": {},
   "outputs": [],
   "source": [
    "import csv\n",
    "with open(\"Aforum_affect\", \"w\") as _file:\n",
    "    writer = csv.writer(_file)\n",
    "    writer.writerow(Adf5.columns.values)\n",
    "    for index, row in Adf5.iterrows():\n",
    "        writer.writerow(row)"
   ]
  },
  {
   "cell_type": "code",
   "execution_count": 28,
   "metadata": {},
   "outputs": [
    {
     "data": {
      "text/plain": [
       "24614"
      ]
     },
     "execution_count": 28,
     "metadata": {},
     "output_type": "execute_result"
    }
   ],
   "source": [
    "#Planning\n",
    "\n",
    "Adf6 = df[df['Message_lowercase'].str.contains(\"plan|idea|strategy|schedule|scheme|organize|arrange|target|change|update|switch|shift|track|record\")]\n",
    "len(Adf6)"
   ]
  },
  {
   "cell_type": "code",
   "execution_count": 29,
   "metadata": {},
   "outputs": [
    {
     "data": {
      "text/plain": [
       "23.12"
      ]
     },
     "execution_count": 29,
     "metadata": {},
     "output_type": "execute_result"
    }
   ],
   "source": [
    "round(100 * len(Adf6) / len(df), 2)"
   ]
  },
  {
   "cell_type": "code",
   "execution_count": 30,
   "metadata": {},
   "outputs": [],
   "source": [
    "import csv\n",
    "with open(\"Aforum_planning\", \"w\") as _file:\n",
    "    writer = csv.writer(_file)\n",
    "    writer.writerow(Adf6.columns.values)\n",
    "    for index, row in Adf6.iterrows():\n",
    "        writer.writerow(row)"
   ]
  },
  {
   "cell_type": "code",
   "execution_count": 31,
   "metadata": {},
   "outputs": [
    {
     "data": {
      "text/plain": [
       "16175"
      ]
     },
     "execution_count": 31,
     "metadata": {},
     "output_type": "execute_result"
    }
   ],
   "source": [
    "#Skills\n",
    "\n",
    "Adf7 = df[df['Message_lowercase'].str.contains(\"skill|expertise|experience|career|profession|occupation|knowledge|language|employment|job\")]\n",
    "len(Adf7)"
   ]
  },
  {
   "cell_type": "code",
   "execution_count": 32,
   "metadata": {},
   "outputs": [
    {
     "data": {
      "text/plain": [
       "15.19"
      ]
     },
     "execution_count": 32,
     "metadata": {},
     "output_type": "execute_result"
    }
   ],
   "source": [
    "round(100 * len(Adf7) / len(df), 2)"
   ]
  },
  {
   "cell_type": "code",
   "execution_count": 33,
   "metadata": {},
   "outputs": [],
   "source": [
    "import csv\n",
    "with open(\"Aforum_skills\", \"w\") as _file:\n",
    "    writer = csv.writer(_file)\n",
    "    writer.writerow(Adf7.columns.values)\n",
    "    for index, row in Adf7.iterrows():\n",
    "        writer.writerow(row)"
   ]
  },
  {
   "cell_type": "code",
   "execution_count": 34,
   "metadata": {},
   "outputs": [
    {
     "data": {
      "text/plain": [
       "38915"
      ]
     },
     "execution_count": 34,
     "metadata": {},
     "output_type": "execute_result"
    }
   ],
   "source": [
    "#Space\n",
    "\n",
    "Adf8 = df[df['Message_lowercase'].str.contains(\"space|place|city|suburb|province|region|forum|online|street|road|transport|distance|location|map|time|infrastructure\")]\n",
    "len(Adf8)"
   ]
  },
  {
   "cell_type": "code",
   "execution_count": 36,
   "metadata": {},
   "outputs": [
    {
     "data": {
      "text/plain": [
       "36.55"
      ]
     },
     "execution_count": 36,
     "metadata": {},
     "output_type": "execute_result"
    }
   ],
   "source": [
    "round(100 * len(Adf8) / len(df), 2)"
   ]
  },
  {
   "cell_type": "code",
   "execution_count": 37,
   "metadata": {},
   "outputs": [],
   "source": [
    "import csv\n",
    "with open(\"Aforum_space\", \"w\") as _file:\n",
    "    writer = csv.writer(_file)\n",
    "    writer.writerow(Adf8.columns.values)\n",
    "    for index, row in Adf8.iterrows():\n",
    "        writer.writerow(row)"
   ]
  },
  {
   "cell_type": "code",
   "execution_count": 41,
   "metadata": {},
   "outputs": [],
   "source": [
    "conversations = [len(Adf1), len(Adf2), len(Adf3), len(Adf4), len(Adf5), len(Adf6), len(Adf7), len(Adf8)]\n",
    "#print(Aconversations)\n",
    "themes = ['arrival', 'aspiration', 'cost', 'decision', 'affect', 'planning', 'skills', 'space']\n",
    "#print(themes)"
   ]
  },
  {
   "cell_type": "code",
   "execution_count": 45,
   "metadata": {},
   "outputs": [
    {
     "data": {
      "text/plain": [
       "<matplotlib.legend.Legend at 0x120c6bc18>"
      ]
     },
     "execution_count": 45,
     "metadata": {},
     "output_type": "execute_result"
    },
    {
     "data": {
      "image/png": "[encoded data removed]",
      "text/plain": [
       "<Figure size 432x288 with 1 Axes>"
      ]
     },
     "metadata": {},
     "output_type": "display_data"
    }
   ],
   "source": [
    "import matplotlib.pyplot as plt\n",
    "plt.bar(themes, Aconversations, label='Aforum')\n",
    "plt.xlabel('Themes')\n",
    "plt.ylabel('Conversations')\n",
    "plt.legend()\n",
    "#plt.scatter(themes, conversations)"
   ]
  },
  {
   "cell_type": "code",
   "execution_count": null,
   "metadata": {},
   "outputs": [],
   "source": []
  }
 ],
 "metadata": {
  "kernelspec": {
   "display_name": "Python 3",
   "language": "python",
   "name": "python3"
  },
  "language_info": {
   "codemirror_mode": {
    "name": "ipython",
    "version": 3
   },
   "file_extension": ".py",
   "mimetype": "text/x-python",
   "name": "python",
   "nbconvert_exporter": "python",
   "pygments_lexer": "ipython3",
   "version": "3.6.8"
  }
 },
 "nbformat": 4,
 "nbformat_minor": 2
}
