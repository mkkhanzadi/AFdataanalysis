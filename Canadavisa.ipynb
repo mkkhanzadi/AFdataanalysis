{
 "cells": [
  {
   "cell_type": "code",
   "execution_count": 30,
   "metadata": {},
   "outputs": [],
   "source": [
    "import requests\n",
    "import bs4\n",
    "from bs4 import BeautifulSoup as bs\n",
    "import csv\n",
    "import re\n",
    "import numpy as np\n",
    "import pandas as pd\n",
    "import nltk\n"
   ]
  },
  {
   "cell_type": "markdown",
   "metadata": {},
   "source": [
    "Get the content for the root forum page."
   ]
  },
  {
   "cell_type": "code",
   "execution_count": 39,
   "metadata": {},
   "outputs": [],
   "source": [
    "canadavisa_url = 'https://www.canadavisa.com/canada-immigration-discussion-board/'\n",
    "canadavisa = requests.get(canadavisa_url).text"
   ]
  },
  {
   "cell_type": "markdown",
   "metadata": {},
   "source": [
    "Get the "
   ]
  },
  {
   "cell_type": "code",
   "execution_count": 43,
   "metadata": {
    "scrolled": true
   },
   "outputs": [],
   "source": [
    "soup = bs(canadavisa, 'html.parser')\n",
    "topics = soup.find_all('h3', {'class':'nodeTitle'})\n",
    "topic_titles = list(map(lambda h: h.text.strip(), topics))\n",
    "topic_titles_and_links = dict(map(lambda h: (h.text.strip(), h.find('a') ['href']), topics))\n",
    "\n",
    "# print(titles_and_links)"
   ]
  },
  {
   "cell_type": "markdown",
   "metadata": {},
   "source": [
    "Creating a csv file to open the data in an excel sheet."
   ]
  },
  {
   "cell_type": "code",
   "execution_count": 36,
   "metadata": {},
   "outputs": [],
   "source": [
    "with open('titles_and_links.csv', mode='w') as csv_file:\n",
    "    fieldnames = ['title', 'link']\n",
    "    writer = csv.DictWriter(csv_file, fieldnames=fieldnames)\n",
    "\n",
    "    writer.writeheader()\n",
    "    for key, value in titles_and_links.items():\n",
    "        writer.writerow({'title': key, 'link': value})\n"
   ]
  },
  {
   "cell_type": "markdown",
   "metadata": {},
   "source": [
    "Iterate through the topic titles to extract threads and messages."
   ]
  },
  {
   "cell_type": "code",
   "execution_count": 45,
   "metadata": {},
   "outputs": [
    {
     "name": "stdout",
     "output_type": "stream",
     "text": [
      "inside loop Immigration to Canada .#immigration-to-canada.9\n",
      "None\n",
      "None\n",
      "None\n",
      "<a class=\"PageNavNext \">→</a>\n",
      "<a class=\"PageNavNext \">→</a>\n",
      "None\n",
      "inside loop Express Entry / Expression of Interest forums/express-entry-expression-of-interest.54/\n",
      "inside loop Express Entry / Expression of Interest forums/express-entry-expression-of-interest.54/\n",
      "inside loop Express Entry / Expression of Interest forums/express-entry-expression-of-interest.54/\n",
      "inside loop Express Entry / Expression of Interest forums/express-entry-expression-of-interest.54/\n",
      "inside loop Express Entry / Expression of Interest forums/express-entry-expression-of-interest.54/\n",
      "inside loop Express Entry / Expression of Interest forums/express-entry-expression-of-interest.54/\n",
      "inside loop Express Entry / Expression of Interest forums/express-entry-expression-of-interest.54/\n",
      "inside loop Express Entry / Expression of Interest forums/express-entry-expression-of-interest.54/\n",
      "inside loop Express Entry / Expression of Interest forums/express-entry-expression-of-interest.54/\n",
      "inside loop Express Entry / Expression of Interest forums/express-entry-expression-of-interest.54/\n",
      "inside loop Express Entry / Expression of Interest forums/express-entry-expression-of-interest.54/\n",
      "inside loop Express Entry / Expression of Interest forums/express-entry-expression-of-interest.54/\n",
      "inside loop Express Entry / Expression of Interest forums/express-entry-expression-of-interest.54/\n",
      "inside loop Express Entry / Expression of Interest forums/express-entry-expression-of-interest.54/\n",
      "inside loop Express Entry / Expression of Interest forums/express-entry-expression-of-interest.54/\n",
      "inside loop Express Entry / Expression of Interest forums/express-entry-expression-of-interest.54/\n",
      "inside loop Express Entry / Expression of Interest forums/express-entry-expression-of-interest.54/\n",
      "inside loop Express Entry / Expression of Interest forums/express-entry-expression-of-interest.54/\n",
      "inside loop Express Entry / Expression of Interest forums/express-entry-expression-of-interest.54/\n",
      "inside loop Express Entry / Expression of Interest forums/express-entry-expression-of-interest.54/\n",
      "inside loop Express Entry / Expression of Interest forums/express-entry-expression-of-interest.54/\n",
      "inside loop Express Entry / Expression of Interest forums/express-entry-expression-of-interest.54/\n",
      "inside loop Express Entry / Expression of Interest forums/express-entry-expression-of-interest.54/\n",
      "inside loop Express Entry / Expression of Interest forums/express-entry-expression-of-interest.54/\n",
      "inside loop Express Entry / Expression of Interest forums/express-entry-expression-of-interest.54/\n",
      "inside loop Express Entry / Expression of Interest forums/express-entry-expression-of-interest.54/\n",
      "inside loop Express Entry / Expression of Interest forums/express-entry-expression-of-interest.54/\n",
      "inside loop Express Entry / Expression of Interest forums/express-entry-expression-of-interest.54/\n",
      "inside loop Express Entry / Expression of Interest forums/express-entry-expression-of-interest.54/\n",
      "inside loop Express Entry / Expression of Interest forums/express-entry-expression-of-interest.54/\n",
      "inside loop Express Entry / Expression of Interest forums/express-entry-expression-of-interest.54/\n",
      "inside loop Express Entry / Expression of Interest forums/express-entry-expression-of-interest.54/\n",
      "inside loop Express Entry / Expression of Interest forums/express-entry-expression-of-interest.54/\n",
      "inside loop Express Entry / Expression of Interest forums/express-entry-expression-of-interest.54/\n",
      "inside loop Express Entry / Expression of Interest forums/express-entry-expression-of-interest.54/\n",
      "inside loop Express Entry / Expression of Interest forums/express-entry-expression-of-interest.54/\n",
      "inside loop Express Entry / Expression of Interest forums/express-entry-expression-of-interest.54/\n",
      "inside loop Express Entry / Expression of Interest forums/express-entry-expression-of-interest.54/\n",
      "inside loop Express Entry / Expression of Interest forums/express-entry-expression-of-interest.54/\n",
      "inside loop Express Entry / Expression of Interest forums/express-entry-expression-of-interest.54/\n",
      "inside loop Express Entry / Expression of Interest forums/express-entry-expression-of-interest.54/\n",
      "inside loop Express Entry / Expression of Interest forums/express-entry-expression-of-interest.54/\n",
      "inside loop Express Entry / Expression of Interest forums/express-entry-expression-of-interest.54/\n",
      "inside loop Express Entry / Expression of Interest forums/express-entry-expression-of-interest.54/\n",
      "inside loop Express Entry / Expression of Interest forums/express-entry-expression-of-interest.54/\n",
      "inside loop Express Entry / Expression of Interest forums/express-entry-expression-of-interest.54/\n",
      "inside loop Express Entry / Expression of Interest forums/express-entry-expression-of-interest.54/\n",
      "inside loop Express Entry / Expression of Interest forums/express-entry-expression-of-interest.54/\n",
      "inside loop Express Entry / Expression of Interest forums/express-entry-expression-of-interest.54/\n",
      "inside loop Express Entry / Expression of Interest forums/express-entry-expression-of-interest.54/\n",
      "inside loop Express Entry / Expression of Interest forums/express-entry-expression-of-interest.54/\n",
      "inside loop Express Entry / Expression of Interest forums/express-entry-expression-of-interest.54/\n",
      "inside loop Express Entry / Expression of Interest forums/express-entry-expression-of-interest.54/\n",
      "inside loop Express Entry / Expression of Interest forums/express-entry-expression-of-interest.54/\n",
      "inside loop Express Entry / Expression of Interest forums/express-entry-expression-of-interest.54/\n",
      "inside loop Express Entry / Expression of Interest forums/express-entry-expression-of-interest.54/\n",
      "inside loop Express Entry / Expression of Interest forums/express-entry-expression-of-interest.54/\n",
      "inside loop Express Entry / Expression of Interest forums/express-entry-expression-of-interest.54/\n",
      "inside loop Express Entry / Expression of Interest forums/express-entry-expression-of-interest.54/\n",
      "inside loop Express Entry / Expression of Interest forums/express-entry-expression-of-interest.54/\n",
      "inside loop Express Entry / Expression of Interest forums/express-entry-expression-of-interest.54/\n",
      "inside loop Express Entry / Expression of Interest forums/express-entry-expression-of-interest.54/\n",
      "inside loop Express Entry / Expression of Interest forums/express-entry-expression-of-interest.54/\n",
      "inside loop Express Entry / Expression of Interest forums/express-entry-expression-of-interest.54/\n",
      "inside loop Express Entry / Expression of Interest forums/express-entry-expression-of-interest.54/\n",
      "inside loop Express Entry / Expression of Interest forums/express-entry-expression-of-interest.54/\n",
      "inside loop Express Entry / Expression of Interest forums/express-entry-expression-of-interest.54/\n",
      "inside loop Express Entry / Expression of Interest forums/express-entry-expression-of-interest.54/\n",
      "inside loop Express Entry / Expression of Interest forums/express-entry-expression-of-interest.54/\n",
      "inside loop Express Entry / Expression of Interest forums/express-entry-expression-of-interest.54/\n",
      "inside loop Express Entry / Expression of Interest forums/express-entry-expression-of-interest.54/\n",
      "inside loop Express Entry / Expression of Interest forums/express-entry-expression-of-interest.54/\n",
      "inside loop Express Entry / Expression of Interest forums/express-entry-expression-of-interest.54/\n",
      "inside loop Express Entry / Expression of Interest forums/express-entry-expression-of-interest.54/\n",
      "inside loop Express Entry / Expression of Interest forums/express-entry-expression-of-interest.54/\n",
      "inside loop Express Entry / Expression of Interest forums/express-entry-expression-of-interest.54/\n",
      "inside loop Express Entry / Expression of Interest forums/express-entry-expression-of-interest.54/\n",
      "inside loop Express Entry / Expression of Interest forums/express-entry-expression-of-interest.54/\n",
      "inside loop Express Entry / Expression of Interest forums/express-entry-expression-of-interest.54/\n",
      "inside loop Express Entry / Expression of Interest forums/express-entry-expression-of-interest.54/\n",
      "inside loop Express Entry / Expression of Interest forums/express-entry-expression-of-interest.54/\n",
      "inside loop Express Entry / Expression of Interest forums/express-entry-expression-of-interest.54/\n",
      "inside loop Express Entry / Expression of Interest forums/express-entry-expression-of-interest.54/\n",
      "inside loop Express Entry / Expression of Interest forums/express-entry-expression-of-interest.54/\n",
      "inside loop Express Entry / Expression of Interest forums/express-entry-expression-of-interest.54/\n",
      "inside loop Express Entry / Expression of Interest forums/express-entry-expression-of-interest.54/\n",
      "inside loop Express Entry / Expression of Interest forums/express-entry-expression-of-interest.54/\n",
      "inside loop Express Entry / Expression of Interest forums/express-entry-expression-of-interest.54/\n",
      "inside loop Express Entry / Expression of Interest forums/express-entry-expression-of-interest.54/\n",
      "inside loop Express Entry / Expression of Interest forums/express-entry-expression-of-interest.54/\n",
      "inside loop Express Entry / Expression of Interest forums/express-entry-expression-of-interest.54/\n",
      "inside loop Express Entry / Expression of Interest forums/express-entry-expression-of-interest.54/\n",
      "inside loop Express Entry / Expression of Interest forums/express-entry-expression-of-interest.54/\n",
      "inside loop Express Entry / Expression of Interest forums/express-entry-expression-of-interest.54/\n",
      "inside loop Express Entry / Expression of Interest forums/express-entry-expression-of-interest.54/\n",
      "inside loop Express Entry / Expression of Interest forums/express-entry-expression-of-interest.54/\n",
      "inside loop Express Entry / Expression of Interest forums/express-entry-expression-of-interest.54/\n",
      "inside loop Express Entry / Expression of Interest forums/express-entry-expression-of-interest.54/\n",
      "inside loop Express Entry / Expression of Interest forums/express-entry-expression-of-interest.54/\n",
      "inside loop Express Entry / Expression of Interest forums/express-entry-expression-of-interest.54/\n",
      "inside loop Express Entry / Expression of Interest forums/express-entry-expression-of-interest.54/\n",
      "inside loop Express Entry / Expression of Interest forums/express-entry-expression-of-interest.54/\n",
      "inside loop Skilled Worker / Professional Immigration forums/skilled-worker-professional-immigration.4/\n",
      "inside loop Canadian Experience Class forums/canadian-experience-class.52/\n",
      "inside loop Provincial Nomination Program Immigration forums/provincial-nomination-program-immigration.6/\n",
      "inside loop Family Class Sponsorship forums/family-class-sponsorship.5/\n",
      "inside loop Caregiver Pathways forums/caregiver-pathways.65/\n",
      "inside loop Quebec Immigration forums/quebec-immigration.55/\n",
      "inside loop Business Immigration forums/business-immigration.7/\n",
      "inside loop IELTS - CELPIP - TEF - TCF - Language Testing forums/ielts-celpip-tef-tcf-language-testing.53/\n",
      "inside loop Refugees and Asylum forums/refugees-and-asylum.56/\n",
      "inside loop General - All Canadian Immigration forums/general-all-canadian-immigration.13/\n",
      "inside loop Moving to Canada from the U.S. .#moving-to-canada-from-the-u-s.31\n",
      "inside loop Permanent Residence in Canada forums/permanent-residence-in-canada.57/\n",
      "inside loop Temporary Residence in Canada (Work, Study, Visit) forums/temporary-residence-in-canada-work-study-visit.58/\n",
      "inside loop H-1B Holders in the U.S. forums/h-1b-holders-in-the-u-s.59/\n",
      "inside loop Temporary Entry to Canada .#temporary-entry-to-canada.26\n",
      "inside loop Foreign Workers forums/foreign-workers.10/\n",
      "inside loop International Students forums/international-students.2/\n",
      "inside loop Visitors forums/visitors.8/\n",
      "inside loop Settlement in Canada .#settlement-in-canada.30\n",
      "inside loop Settlement Issues forums/settlement-issues.14/\n",
      "inside loop Permanent Residency Obligations forums/permanent-residency-obligations.11/\n",
      "inside loop Citizenship forums/citizenship.12/\n",
      "inside loop Housing forums/housing.39/\n",
      "inside loop Education forums/education.41/\n",
      "inside loop Health forums/health.40/\n",
      "inside loop Working in Canada .#working-in-canada.29\n",
      "inside loop Finding Work in Canada forums/finding-work-in-canada.21/\n",
      "inside loop Canadian Finance and Taxation forums/canadian-finance-and-taxation.25/\n",
      "inside loop Start Your Own Business in Canada – Self Employmen forums/start-your-own-business-in-canada-%E2%80%93-self-employmen.22/\n",
      "inside loop Canadian Labour Legislation forums/canadian-labour-legislation.23/\n",
      "inside loop Resources for Finding a Canadian Job forums/resources-for-finding-a-canadian-job.24/\n",
      "inside loop Canadian Visa Office .#canadian-visa-office.28\n",
      "inside loop Visa Offices in North America forums/visa-offices-in-north-america.18/\n",
      "inside loop Visa Offices in South America forums/visa-offices-in-south-america.19/\n",
      "inside loop Visa Offices in Europe forums/visa-offices-in-europe.17/\n",
      "inside loop Visa Offices in Asia forums/visa-offices-in-asia.16/\n",
      "inside loop Visa Offices in Africa forums/visa-offices-in-africa.15/\n",
      "inside loop Visa Offices in Oceana forums/visa-offices-in-oceana.20/\n"
     ]
    }
   ],
   "source": [
    "# Create lists to hold the messages.\n",
    "message_contents = list()\n",
    "date_contents = list()\n",
    "username_contents = list()\n",
    "topic_contents = list()\n",
    "subtopic_contents = list()\n",
    "\n",
    "counter = 0\n",
    "\n",
    "\n",
    "for key, value in topic_titles_and_links.items():\n",
    "    counter = counter + 1\n",
    "    if counter == 1:\n",
    "        print('inside loop', key, value)\n",
    "        continue\n",
    "\n",
    "    # For debugging only - COMMENT OUT LATER\n",
    "    if counter > 2:\n",
    "        print('inside loop',key,value)\n",
    "        continue\n",
    "\n",
    "    topic_url = Canadavisa_url + value \n",
    "    topic_title = key\n",
    "    try:\n",
    "        topic_content = bs(requests.get(topic_url).text, 'html.parser')\n",
    "        threads = topic_content.find_all('h3', {'class':'title'})\n",
    "        thread_titles_and_links = dict(map(lambda subtopic: (subtopic.text.strip(), subtopic.find('a') ['href']), threads))\n",
    "        thread_counter = 0\n",
    "        for st_key, st_value in thread_titles_and_links.items():\n",
    "            thread_counter = thread_counter + 1\n",
    "            if thread_counter > 1:\n",
    "                print('inside loop',key,value)\n",
    "                continue\n",
    "            thread_url = Canadavisa_url + st_value\n",
    "            thread_title = st_key\n",
    "            thread_content = bs(requests.get(subtopic_url).text, 'html.parser')\n",
    "            thread_pages = thread_content.find_all('nav')\n",
    "            for thread_page in thread_pages:\n",
    "                link = thread_page.find('a', {'class': 'PageNavNext'})\n",
    "                print(link)\n",
    "    except:\n",
    "        print(\"Can't find this page... Moving on\")\n",
    "\n"
   ]
  },
  {
   "cell_type": "code",
   "execution_count": 127,
   "metadata": {},
   "outputs": [
    {
     "data": {
      "text/plain": [
       "1280"
      ]
     },
     "execution_count": 127,
     "metadata": {},
     "output_type": "execute_result"
    }
   ],
   "source": [
    "int(re.search('Page \\d* of (\\d*)', 'Page 1 of 1280').group(1))"
   ]
  },
  {
   "cell_type": "code",
   "execution_count": null,
   "metadata": {},
   "outputs": [],
   "source": []
  },
  {
   "cell_type": "code",
   "execution_count": 130,
   "metadata": {
    "scrolled": true
   },
   "outputs": [
    {
     "name": "stdout",
     "output_type": "stream",
     "text": [
      "inside loop Immigration to Canada .#immigration-to-canada.9\n",
      "Processing  Express Entry / Expression of Interest\n",
      "https://www.canadavisa.com/canada-immigration-discussion-board/threads/express-entry-step-by-step-instructions.273928/\n",
      "https://www.canadavisa.com/canada-immigration-discussion-board/threads/express-entry-step-by-step-instructions.273928/page-2\n",
      "https://www.canadavisa.com/canada-immigration-discussion-board/threads/express-entry-step-by-step-instructions.273928/page-3\n",
      "https://www.canadavisa.com/canada-immigration-discussion-board/threads/summary-of-eligibility-requirements-for-all-express-entry-pnp-streams.432937/\n",
      "https://www.canadavisa.com/canada-immigration-discussion-board/threads/summary-of-eligibility-requirements-for-all-express-entry-pnp-streams.432937/page-2\n",
      "https://www.canadavisa.com/canada-immigration-discussion-board/threads/summary-of-eligibility-requirements-for-all-express-entry-pnp-streams.432937/page-3\n",
      "https://www.canadavisa.com/canada-immigration-discussion-board/threads/express-entry-in-a-nutshell.394158/\n",
      "https://www.canadavisa.com/canada-immigration-discussion-board/threads/express-entry-in-a-nutshell.394158/page-2\n",
      "https://www.canadavisa.com/canada-immigration-discussion-board/threads/express-entry-in-a-nutshell.394158/page-3\n",
      "Finished\n"
     ]
    }
   ],
   "source": [
    "message_ids = list()\n",
    "links = list()\n",
    "date_contents = list()\n",
    "username_contents = list()\n",
    "message_contents = list()\n",
    "countries = list()\n",
    "likes = list()\n",
    "topic_contents = list()\n",
    "thread_contents = list()\n",
    "counter = 0\n",
    "thread_counter = 0\n",
    "thread_page_counter = 0\n",
    "\n",
    "for key, value in topic_titles_and_links.items():\n",
    "    counter = counter + 1\n",
    "    if counter == 1:\n",
    "        print('inside loop',key,value)\n",
    "        continue\n",
    "\n",
    "    # For debugging only - COMMENT OUT LATER\n",
    "    if counter > 2:\n",
    "        break\n",
    "\n",
    "    \n",
    "    topic_url = Canadavisa_url + value \n",
    "    topic_title = key\n",
    "\n",
    "    print(\"Processing \", topic_title)\n",
    "    try:\n",
    "        topic_content = bs(requests.get(topic_url).text, 'html.parser')\n",
    "        threads = topic_content.find_all('h3', {'class':'title'})\n",
    "        thread_titles_and_links = dict(map(lambda subtopic: (subtopic.text.strip(), subtopic.find('a') ['href']), subtopics))\n",
    "        thread_counter = 0\n",
    "        for st_key, st_value in thread_titles_and_links.items():\n",
    "            thread_counter = thread_counter + 1\n",
    "            if thread_counter > 3:\n",
    "                break\n",
    "            thread_url = Canadavisa_url + st_value\n",
    "            thread_title = st_key\n",
    "            thread_content = bs(requests.get(thread_url).text, 'html.parser')\n",
    "\n",
    "            last_page = 1\n",
    "            try:\n",
    "\n",
    "                last_page = int(re.search('Page \\d* of (\\d*)', thread_content.select('span.pageNavHeader')[0].text).group(1))\n",
    "            except Exception as e: \n",
    "                print(e) \n",
    "\n",
    "            for x in range(1, last_page + 1):\n",
    "                if x > 3:\n",
    "                    break\n",
    "\n",
    "                thread_url = Canadavisa_url + st_value\n",
    "                if x > 1:\n",
    "                    thread_url = thread_url + 'page-' + str(x)\n",
    "                print(thread_url)\n",
    "                thread_content = bs(requests.get(thread_url).text, 'html.parser')\n",
    "                messages = thread_content.select('div.messageContent')\n",
    "                m_ids = thread_content.select('li.message')\n",
    "                message_urls = thread_content.select('div.uix_message a.datePermalink')\n",
    "                message_likes = thread_content.select('div.uix_message div.uix_userTextInner > dl:nth-of-type(2) > dd')\n",
    "                message_dates = thread_content.select('span.DateTime')\n",
    "                message_usernames = thread_content.select('a.username')\n",
    "                message_list = list(map(lambda message: (message.find('blockquote').decode_contents().strip()), messages))\n",
    "                usernames_list = list(map(lambda a: a.text.strip(), message_usernames))\n",
    "                for idx, m in enumerate(message_list):\n",
    "                    message_id = \"\"\n",
    "                    try:\n",
    "                        message_id = re.search('post-(\\d*)', m_ids[idx]['id']).group(1)\n",
    "                    except IndexError:\n",
    "                        message_id = \"\"\n",
    "                    message_ids.append(message_id)\n",
    "                    link = \"\"\n",
    "                    try:\n",
    "                        link = 'https://www.canadavisa.com/' + message_urls[idx]['href']\n",
    "                    except IndexError:\n",
    "                        link = \"\"\n",
    "                    links.append(link)\n",
    "                    message_date = \"\"\n",
    "                    try:\n",
    "                        message_date = message_dates[idx]['title']\n",
    "                    except IndexError:\n",
    "                        message_date = \"\"\n",
    "                    date_contents.append(message_date)\n",
    "                    message_username = \"\"\n",
    "                    try:\n",
    "                        message_username = usernames_list[idx]\n",
    "                    except IndexError:\n",
    "                        message_username = \"\"\n",
    "                    username_contents.append(message_username)\n",
    "\n",
    "                    message_contents.append(m.replace('\\n', \"\"))\n",
    "\n",
    "                    countries.append(\"NA\")\n",
    "                    like = \"\"\n",
    "                    try:\n",
    "                        like = message_likes[idx].text\n",
    "                    except IndexError:\n",
    "                        like = \"\"\n",
    "                    likes.append(like)\n",
    "                    topic_contents.append(topic_title)\n",
    "                    thread_contents.append(thread_title)\n",
    "    except:\n",
    "        print(\"Can't find this page... Moving on\")\n",
    "print(\"Finished\")\n"
   ]
  },
  {
   "cell_type": "code",
   "execution_count": 131,
   "metadata": {},
   "outputs": [
    {
     "name": "stdout",
     "output_type": "stream",
     "text": [
      "Finished\n"
     ]
    }
   ],
   "source": [
    "# Create empty frame\n",
    "#base_data_frame = pd.DataFrame({ \"ID\": message_ids, \"Link\": links, \"Date\": date_contents, \"Username\": username_contents, \"Message\": message_contents, \"Country\": [], \"Like\": [], \"Topic\": topic_contents, \"Thread\": thread_contents})\n",
    "base_data_frame = pd.DataFrame({ \"ID\": message_ids, \n",
    "                                \"Link\": links, \n",
    "                                \"Date\": date_contents,\n",
    "                                \"Username\": username_contents, \n",
    "                                \"Message\": message_contents, \n",
    "                                \"Country\": countries, \n",
    "                                \"Like\": likes, \n",
    "                                \"Topic\": topic_contents, \n",
    "                                \"Thread\": thread_contents})\n",
    "\n",
    "print('Finished')"
   ]
  },
  {
   "cell_type": "code",
   "execution_count": 132,
   "metadata": {},
   "outputs": [
    {
     "data": {
      "text/plain": [
       "135"
      ]
     },
     "execution_count": 132,
     "metadata": {},
     "output_type": "execute_result"
    }
   ],
   "source": [
    "len(base_data_frame)"
   ]
  },
  {
   "cell_type": "code",
   "execution_count": 133,
   "metadata": {},
   "outputs": [],
   "source": [
    "# from https://github.com/pandas-dev/pandas/issues/22610\n",
    "import csv\n",
    "with open(\"can-forum.csv\", \"w\", errors='surrogatepass') as _file:\n",
    "    writer = csv.writer(_file)\n",
    "    #writer.writerow(row)\n",
    "    writer.writerow(base_data_frame.columns.values)\n",
    "    for index, row in base_data_frame.iterrows():\n",
    "        writer.writerow(row)"
   ]
  },
  {
   "cell_type": "code",
   "execution_count": null,
   "metadata": {},
   "outputs": [],
   "source": []
  }
 ],
 "metadata": {
  "kernelspec": {
   "display_name": "Python 3",
   "language": "python",
   "name": "python3"
  },
  "language_info": {
   "codemirror_mode": {
    "name": "ipython",
    "version": 3
   },
   "file_extension": ".py",
   "mimetype": "text/x-python",
   "name": "python",
   "nbconvert_exporter": "python",
   "pygments_lexer": "ipython3",
   "version": "3.7.3"
  },
  "toc": {
   "nav_menu": {},
   "number_sections": true,
   "sideBar": true,
   "skip_h1_title": false,
   "title_cell": "Table of Contents",
   "title_sidebar": "Contents",
   "toc_cell": false,
   "toc_position": {},
   "toc_section_display": true,
   "toc_window_display": true
  }
 },
 "nbformat": 4,
 "nbformat_minor": 2
}
